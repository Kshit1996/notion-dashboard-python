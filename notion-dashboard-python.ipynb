{
 "cells": [
  {
   "cell_type": "code",
   "execution_count": 62,
   "metadata": {},
   "outputs": [],
   "source": [
    "from notion.client import NotionClient\n",
    "client=NotionClient(token_v2=\"5eb906f0541e05cd563299dba7162e1b1aa9906d24daec7249a115201e8d103c6cf312e5d3db1cb513020a658a3015d43a26280183c9bae2dd3055dbc45d2ed19ac2fc081e172921326170973439\")"
   ]
  },
  {
   "cell_type": "code",
   "execution_count": 63,
   "metadata": {},
   "outputs": [],
   "source": [
    "page = client.get_block(\"https://www.notion.so/greyamp/ae5eda0288324145834e92218849bcd8?v=83bd4754f4fb483994059ccfd41773a8\")\n"
   ]
  },
  {
   "cell_type": "code",
   "execution_count": 149,
   "metadata": {},
   "outputs": [
    {
     "name": "stdout",
     "output_type": "stream",
     "text": [
      "[{'Name': 'Maturity Assessment for Jenius', 'Assignee': [], 'CM Stage': 'Sustain and Scale', 'Completed In Sprint': None, 'Created Date': datetime.datetime(2020, 4, 26, 3, 22, 14, 598000), 'Current Sprint': 'S20', 'DoD': 'Define the Approach for running an assessment to benchmark Process effectiveness compared to the last assessment', 'Due Date': datetime.date(2020, 4, 25), 'End Date': None, 'Last Edited Date': datetime.datetime(2020, 6, 19, 9, 45), 'Lever': 'Process and Tech', 'Priority': 'Critical', 'Sprint Planned For': 'S15', 'Start Date': None, 'Status': 'On Hold', 'Supporting Members': [], 'Track': ['COS Lending']}, {'Name': 'Maturity assessment reports comparison', 'Assignee': [], 'CM Stage': 'Align and Aware', 'Completed In Sprint': None, 'Created Date': datetime.datetime(2020, 4, 30, 5, 16), 'Current Sprint': 'S20', 'DoD': 'To prepare a deck to be shared by May 1st to Sunray group comparing the maturtiy assessment results from the 2 surveys ', 'Due Date': datetime.date(2020, 5, 1), 'End Date': None, 'Last Edited Date': datetime.datetime(2020, 6, 19, 9, 45), 'Lever': 'Org and Governance', 'Priority': 'Critical', 'Sprint Planned For': 'S16', 'Start Date': datetime.date(2020, 4, 28), 'Status': 'On Hold', 'Supporting Members': [], 'Track': ['Sunray']}, {'Name': 'Clan Structure for Jenius V1', 'Assignee': ['Rishikesh Kulkarni'], 'CM Stage': 'Define and Design', 'Completed In Sprint': 'S16', 'Created Date': datetime.datetime(2020, 5, 3, 14, 5), 'Current Sprint': 'S16', 'DoD': 'Prepare and Present an approach for structuring Jenius with Clans to drive end-to-end ownership', 'Due Date': datetime.date(2020, 5, 8), 'End Date': datetime.date(2020, 5, 8), 'Last Edited Date': datetime.datetime(2020, 5, 8, 10, 11), 'Lever': 'Org and Governance', 'Priority': 'Critical', 'Sprint Planned For': 'S16', 'Start Date': datetime.date(2020, 5, 6), 'Status': 'Completed', 'Supporting Members': [], 'Track': ['Jenius']}, {'Name': 'Sunray OKRs', 'Assignee': ['Aayushi Paliwal'], 'CM Stage': 'Define and Design', 'Completed In Sprint': 'S16', 'Created Date': datetime.datetime(2020, 4, 27, 5, 19), 'Current Sprint': 'S16', 'DoD': 'OKRs for Q2 mapped out\\nDoD:\\na. Socialisation of OKRs with Sunray Group (all the relevant stakeholders)\\nb. Alignment with the Group on OKRs\\nc. Agreement on the final OKRs for Q2 that will emerge post the discussion in Sunray', 'Due Date': datetime.date(2020, 4, 30), 'End Date': None, 'Last Edited Date': datetime.datetime(2020, 5, 11, 10, 4), 'Lever': 'Org and Governance', 'Priority': 'High', 'Sprint Planned For': None, 'Start Date': datetime.date(2020, 4, 20), 'Status': 'Completed', 'Supporting Members': [], 'Track': ['Sunray']}, {'Name': 'Digital Leadership Mindsets and Behaviours', 'Assignee': ['Rachna Ravi'], 'CM Stage': 'Define and Design', 'Completed In Sprint': 'S16', 'Created Date': datetime.datetime(2020, 5, 5, 11, 14), 'Current Sprint': 'S16', 'DoD': 'To define the mindsets and behaviours for Digtial Leadership - focus on post COVID changes as well', 'Due Date': datetime.date(2020, 5, 6), 'End Date': None, 'Last Edited Date': datetime.datetime(2020, 5, 8, 7, 53), 'Lever': 'People and Competencies', 'Priority': 'Critical', 'Sprint Planned For': 'S16', 'Start Date': datetime.date(2020, 5, 5), 'Status': 'Completed', 'Supporting Members': [], 'Track': ['ITSP', 'Sunray']}, {'Name': 'CHIP presentation deck in Sunray', 'Assignee': ['Kshitiz Kshitiz'], 'CM Stage': 'Coach and Enable', 'Completed In Sprint': 'S16', 'Created Date': datetime.datetime(2020, 4, 30, 5, 18), 'Current Sprint': 'S16', 'DoD': 'To provide the storyline and template for the CHIP 5 progress deck to be shared at Sunay on May 4th', 'Due Date': datetime.date(2020, 5, 1), 'End Date': datetime.date(2020, 5, 1), 'Last Edited Date': datetime.datetime(2020, 5, 8, 7, 54), 'Lever': 'Process and Tech', 'Priority': 'Critical', 'Sprint Planned For': None, 'Start Date': datetime.date(2020, 4, 30), 'Status': 'Completed', 'Supporting Members': [], 'Track': ['Sunray']}, {'Name': 'DSME FGD detailed questions', 'Assignee': ['Shaijin Usman'], 'CM Stage': None, 'Completed In Sprint': 'S16', 'Created Date': datetime.datetime(2020, 5, 5, 11, 7), 'Current Sprint': 'S16', 'DoD': 'Come up with Detailed FGD questions and Data conso', 'Due Date': datetime.date(2020, 5, 5), 'End Date': datetime.date(2020, 5, 5), 'Last Edited Date': datetime.datetime(2020, 5, 8, 7, 54), 'Lever': 'Process and Tech', 'Priority': 'Critical', 'Sprint Planned For': 'S16', 'Start Date': datetime.date(2020, 5, 4), 'Status': 'Completed', 'Supporting Members': [], 'Track': ['Digital SME']}, {'Name': 'RM FGD Structure for DMSME', 'Assignee': ['Shaijin Usman', 'Aayushi Paliwal'], 'CM Stage': None, 'Completed In Sprint': 'S16', 'Created Date': datetime.datetime(2020, 4, 29, 9, 12), 'Current Sprint': 'S16', 'DoD': 'Create FGD structure to test the MSME hypothesis with the RMs', 'Due Date': datetime.date(2020, 4, 30), 'End Date': None, 'Last Edited Date': datetime.datetime(2020, 5, 8, 7, 55), 'Lever': None, 'Priority': 'High', 'Sprint Planned For': None, 'Start Date': datetime.date(2020, 4, 28), 'Status': 'Completed', 'Supporting Members': [], 'Track': ['Digital SME']}, {'Name': 'Sunray Schedule', 'Assignee': ['Rachna Ravi'], 'CM Stage': 'Sustain and Scale', 'Completed In Sprint': 'S16', 'Created Date': datetime.datetime(2020, 4, 27, 5, 6), 'Current Sprint': 'S16', 'DoD': 'To define the plan for scheduled updates on Sunray across Way of working, organising, learning and growing', 'Due Date': datetime.date(2020, 4, 30), 'End Date': datetime.date(2020, 4, 30), 'Last Edited Date': datetime.datetime(2020, 5, 8, 7, 54), 'Lever': 'Org and Governance', 'Priority': 'High', 'Sprint Planned For': 'S16', 'Start Date': datetime.date(2020, 4, 24), 'Status': 'Completed', 'Supporting Members': [], 'Track': ['Sunray']}, {'Name': 'April Engagement Report', 'Assignee': ['Rishikesh Kulkarni', 'Aayushi Paliwal'], 'CM Stage': None, 'Completed In Sprint': 'S16', 'Created Date': datetime.datetime(2020, 4, 26, 4, 16), 'Current Sprint': 'S16', 'DoD': 'Create the Engagement Report for April', 'Due Date': datetime.date(2020, 4, 25), 'End Date': None, 'Last Edited Date': datetime.datetime(2020, 5, 8, 7, 54), 'Lever': 'Account Management', 'Priority': 'High', 'Sprint Planned For': 'S15', 'Start Date': datetime.date(2020, 4, 17), 'Status': 'Completed', 'Supporting Members': [], 'Track': ['IT Enablement']}, {'Name': 'DSME: Day in the life', 'Assignee': ['Shaijin Usman'], 'CM Stage': 'Define and Design', 'Completed In Sprint': 'S15', 'Created Date': datetime.datetime(2020, 4, 26, 4, 23), 'Current Sprint': 'S16', 'DoD': 'To define the DILO for distributor, sub distributor, and strategic partner', 'Due Date': datetime.date(2020, 4, 27), 'End Date': datetime.date(2020, 4, 23), 'Last Edited Date': datetime.datetime(2020, 5, 11, 10, 4), 'Lever': 'Process and Tech', 'Priority': 'High', 'Sprint Planned For': 'S15', 'Start Date': datetime.date(2020, 4, 18), 'Status': 'Completed', 'Supporting Members': [], 'Track': ['Digital SME']}, {'Name': 'Understanding of Jenius vs WOW LOS usage', 'Assignee': ['Rishikesh Kulkarni'], 'CM Stage': 'Discover', 'Completed In Sprint': 'S16', 'Created Date': datetime.datetime(2020, 4, 27, 11, 1), 'Current Sprint': 'S16', 'DoD': 'Go over the documents shared by Indra, and get an understanding.\\nDefine an approach for selecting WOW vs Jenius (Not by Friday)', 'Due Date': datetime.date(2020, 5, 1), 'End Date': None, 'Last Edited Date': datetime.datetime(2020, 5, 8, 7, 54), 'Lever': 'Process and Tech', 'Priority': 'High', 'Sprint Planned For': 'S16', 'Start Date': datetime.date(2020, 4, 28), 'Status': 'Completed', 'Supporting Members': [], 'Track': ['Jenius']}, {'Name': 'May Engagement Report', 'Assignee': ['Rishikesh Kulkarni'], 'CM Stage': None, 'Completed In Sprint': 'S18', 'Created Date': datetime.datetime(2020, 5, 22, 4, 51), 'Current Sprint': 'S18', 'DoD': 'Prepare the Engagement Report', 'Due Date': datetime.date(2020, 5, 29), 'End Date': None, 'Last Edited Date': datetime.datetime(2020, 6, 5, 8, 59), 'Lever': 'Account Management', 'Priority': 'Critical', 'Sprint Planned For': None, 'Start Date': None, 'Status': 'Completed', 'Supporting Members': [], 'Track': []}, {'Name': 'COS Lending R3 OKRs and BV CV', 'Assignee': ['Rishikesh Kulkarni'], 'CM Stage': None, 'Completed In Sprint': 'S19', 'Created Date': datetime.datetime(2020, 6, 12, 10, 27), 'Current Sprint': 'S19', 'DoD': 'Define the OKRs fro R3 based on discussion and calculate BV CV score', 'Due Date': None, 'End Date': None, 'Last Edited Date': datetime.datetime(2020, 6, 19, 9, 46), 'Lever': 'Process and Tech', 'Priority': 'Critical', 'Sprint Planned For': 'S19', 'Start Date': None, 'Status': 'Completed', 'Supporting Members': [], 'Track': ['COS Lending']}, {'Name': 'COS Lending Inception Schedule', 'Assignee': ['Rishikesh Kulkarni'], 'CM Stage': None, 'Completed In Sprint': 'S19', 'Created Date': datetime.datetime(2020, 6, 17, 10, 3), 'Current Sprint': 'S19', 'DoD': 'Create a finalized Schedule for Inception', 'Due Date': datetime.date(2020, 6, 19), 'End Date': None, 'Last Edited Date': datetime.datetime(2020, 6, 19, 9, 46), 'Lever': 'Process and Tech', 'Priority': 'Critical', 'Sprint Planned For': 'S19', 'Start Date': None, 'Status': 'Completed', 'Supporting Members': [], 'Track': ['COS Lending']}, {'Name': 'Squad Level Dashboard', 'Assignee': ['Rishikesh Kulkarni'], 'CM Stage': 'Discover', 'Completed In Sprint': 'S19', 'Created Date': datetime.datetime(2020, 4, 27, 2, 46), 'Current Sprint': 'S19', 'DoD': 'Make an Excel and PPT for the folowwing\\n1. Highlight points for revising the existing Standard Dashboard for Squad (the standard one is the one for squad Bora Bora)\\n2. Compare existing squad level Dashboards with the Standard Dashboard and identify Delta\\n3. Highlight points for revising the existing COS Level Dashboard', 'Due Date': datetime.date(2020, 5, 22), 'End Date': None, 'Last Edited Date': datetime.datetime(2020, 6, 12, 9, 2), 'Lever': 'Org and Governance', 'Priority': 'Critical', 'Sprint Planned For': 'S16', 'Start Date': datetime.date(2020, 4, 28), 'Status': 'Completed', 'Supporting Members': [], 'Track': ['IT Enablement']}, {'Name': 'Prework for COS Sales Inception', 'Assignee': ['Ananth H N'], 'CM Stage': None, 'Completed In Sprint': None, 'Created Date': datetime.datetime(2020, 6, 8, 12, 44), 'Current Sprint': 'S20', 'DoD': 'Reach out to Alvin, define what is to be done for COS Sales Inception and get involved in this', 'Due Date': None, 'End Date': None, 'Last Edited Date': datetime.datetime(2020, 6, 29, 10, 18), 'Lever': 'Process and Tech', 'Priority': 'Critical', 'Sprint Planned For': None, 'Start Date': None, 'Status': 'Completed', 'Supporting Members': [], 'Track': ['COS Sales']}, {'Name': \"Measures of Success for BTPN Deck (Jufri's Deck)\", 'Assignee': ['Preethi Madhu'], 'CM Stage': None, 'Completed In Sprint': None, 'Created Date': datetime.datetime(2020, 5, 4, 5, 48), 'Current Sprint': 'S20', 'DoD': 'Based on Feedback given, modify the storyline of the Proposal', 'Due Date': datetime.date(2020, 5, 8), 'End Date': None, 'Last Edited Date': datetime.datetime(2020, 6, 19, 9, 38), 'Lever': 'Account Management', 'Priority': 'Critical', 'Sprint Planned For': 'S16', 'Start Date': datetime.date(2020, 5, 5), 'Status': 'In Progress', 'Supporting Members': [], 'Track': ['ITSP']}, {'Name': 'Define Standard Process related Practices for the Squad', 'Assignee': ['Aayushi Paliwal'], 'CM Stage': None, 'Completed In Sprint': None, 'Created Date': datetime.datetime(2020, 6, 12, 9, 45), 'Current Sprint': 'S20', 'DoD': 'Using the guideline already defined by Jenius, iterate on the same and provide new recommendations\\nSuch as Story Splitting, Sprint Planning, Sprint Bucketing', 'Due Date': None, 'End Date': None, 'Last Edited Date': datetime.datetime(2020, 6, 29, 10, 20), 'Lever': 'Process and Tech', 'Priority': 'High', 'Sprint Planned For': 'S19', 'Start Date': None, 'Status': 'In Progress', 'Supporting Members': [], 'Track': ['Jenius']}, {'Name': 'Finalise script for FGD and challenges that will come during the prototype testing', 'Assignee': ['Shaijin Usman'], 'CM Stage': None, 'Completed In Sprint': None, 'Created Date': datetime.datetime(2020, 6, 25, 4, 48), 'Current Sprint': 'S20', 'DoD': '1. Create a script that will be used by the DSME team to ask for responses and feedback from customers on the prototype\\n2. Highlight potential challenges that might come up during the testing with final users and how will we deal with it', 'Due Date': datetime.date(2020, 6, 30), 'End Date': None, 'Last Edited Date': datetime.datetime(2020, 6, 29, 10, 20), 'Lever': None, 'Priority': 'High', 'Sprint Planned For': None, 'Start Date': datetime.date(2020, 6, 25), 'Status': 'In Progress', 'Supporting Members': ['Shaijin Usman', 'Preethi Madhu'], 'Track': ['Digital SME']}, {'Name': 'Wireframes for Product DSME', 'Assignee': ['Shaijin Usman'], 'CM Stage': None, 'Completed In Sprint': None, 'Created Date': datetime.datetime(2020, 6, 12, 9, 1), 'Current Sprint': 'S20', 'DoD': 'Create wireframes for the product prototype and finalises on the storyline', 'Due Date': datetime.date(2020, 6, 25), 'End Date': datetime.date(2020, 6, 26), 'Last Edited Date': datetime.datetime(2020, 6, 25, 5, 58), 'Lever': 'Process and Tech', 'Priority': 'High', 'Sprint Planned For': None, 'Start Date': datetime.date(2020, 6, 12), 'Status': 'Completed', 'Supporting Members': [], 'Track': ['Digital SME']}, {'Name': 'Interviews for Engagement Boost and Collation of Results', 'Assignee': ['Aayushi Paliwal', 'Preethi Madhu'], 'CM Stage': None, 'Completed In Sprint': None, 'Created Date': datetime.datetime(2020, 5, 11, 10, 5), 'Current Sprint': 'S20', 'DoD': 'To conduct interviews with identify how we can increase understanding and alignment on ground', 'Due Date': datetime.date(2020, 5, 11), 'End Date': None, 'Last Edited Date': datetime.datetime(2020, 6, 26, 6, 33), 'Lever': 'Account Management', 'Priority': 'High', 'Sprint Planned For': 'S17', 'Start Date': datetime.date(2020, 5, 11), 'Status': 'Completed', 'Supporting Members': ['Aayushi Paliwal', 'Rishikesh Kulkarni'], 'Track': ['Sunray']}, {'Name': 'DILO for TPS member', 'Assignee': ['Shaijin Usman'], 'CM Stage': None, 'Completed In Sprint': None, 'Created Date': datetime.datetime(2020, 6, 29, 4, 2), 'Current Sprint': 'S20', 'DoD': 'Create a visual representation for the day in the life of a TPS member', 'Due Date': datetime.date(2020, 6, 29), 'End Date': None, 'Last Edited Date': datetime.datetime(2020, 6, 29, 4, 4), 'Lever': 'People and Competencies', 'Priority': 'High', 'Sprint Planned For': 'S20', 'Start Date': datetime.date(2020, 6, 29), 'Status': 'In Progress', 'Supporting Members': [], 'Track': ['Sunray']}, {'Name': 'Envisioning exercise for Sunray Group', 'Assignee': ['Aayushi Paliwal'], 'CM Stage': None, 'Completed In Sprint': None, 'Created Date': datetime.datetime(2020, 6, 26, 6, 33), 'Current Sprint': 'S20', 'DoD': '1. Conduct Visioning exercise amongst the Sunray participants from the prioritised How Might We\\n2. Come up with the Next Steps for the same', 'Due Date': None, 'End Date': datetime.date(2020, 7, 6), 'Last Edited Date': datetime.datetime(2020, 6, 26, 6, 34), 'Lever': None, 'Priority': 'High', 'Sprint Planned For': None, 'Start Date': datetime.date(2020, 6, 29), 'Status': 'In Progress', 'Supporting Members': ['Preethi Madhu'], 'Track': ['Sunray']}, {'Name': 'Data POC Data Extraction Mechanism', 'Assignee': ['Rishikesh Kulkarni', 'Kshitiz Kshitiz'], 'CM Stage': None, 'Completed In Sprint': None, 'Created Date': datetime.datetime(2020, 6, 3, 5, 11), 'Current Sprint': 'S20', 'DoD': 'Talk to individual tool owners and define the mechanism for collecting data from their respective tools, and align on the type of data possible to be extracted for Biller Rintis', 'Due Date': None, 'End Date': None, 'Last Edited Date': datetime.datetime(2020, 6, 29, 9, 23), 'Lever': 'Org and Governance', 'Priority': 'High', 'Sprint Planned For': None, 'Start Date': None, 'Status': 'In Progress', 'Supporting Members': [], 'Track': ['IT Enablement']}, {'Name': 'ITaaS Maturity Assessment', 'Assignee': ['Rachna Ravi', 'Naveen S', 'Aayushi Paliwal'], 'CM Stage': 'Discover', 'Completed In Sprint': None, 'Created Date': datetime.datetime(2020, 4, 27, 5, 0), 'Current Sprint': 'S20', 'DoD': 'Assessmnt questionnaire for ITaaS with scoring model', 'Due Date': datetime.date(2020, 5, 1), 'End Date': None, 'Last Edited Date': datetime.datetime(2020, 6, 29, 9, 32), 'Lever': 'Org and Governance', 'Priority': 'High', 'Sprint Planned For': 'S16', 'Start Date': datetime.date(2020, 4, 24), 'Status': 'In Progress', 'Supporting Members': [], 'Track': ['ITSP']}, {'Name': 'Jenius Clan Structure V2', 'Assignee': ['Preethi Madhu', 'Rishikesh Kulkarni'], 'CM Stage': None, 'Completed In Sprint': 'S19', 'Created Date': datetime.datetime(2020, 5, 8, 10, 11), 'Current Sprint': 'S19', 'DoD': 'Update the Clan Structure with the 4 points post discussion with Frenky,\\nUpdate the Release Train', 'Due Date': datetime.date(2020, 5, 14), 'End Date': None, 'Last Edited Date': datetime.datetime(2020, 6, 12, 9, 0), 'Lever': 'Org and Governance', 'Priority': 'Critical', 'Sprint Planned For': None, 'Start Date': None, 'Status': 'Completed', 'Supporting Members': [], 'Track': ['Jenius']}, {'Name': 'Parameters & questions for CHIP Mentors Feedback Session', 'Assignee': ['Rachna Ravi', 'Preethi Madhu', 'Paridhi Gupta'], 'CM Stage': 'Coach and Enable', 'Completed In Sprint': 'S19', 'Created Date': datetime.datetime(2020, 6, 9, 11, 2), 'Current Sprint': 'S19', 'DoD': 'Detail parameters and questions to gather feedback from CHIP mentors', 'Due Date': datetime.date(2020, 6, 11), 'End Date': None, 'Last Edited Date': datetime.datetime(2020, 6, 16, 4, 56), 'Lever': 'People and Competencies', 'Priority': 'High', 'Sprint Planned For': 'S19', 'Start Date': datetime.date(2020, 6, 9), 'Status': 'Completed', 'Supporting Members': [], 'Track': ['IT Enablement']}, {'Name': 'Quarterly Plan for BANK IT', 'Assignee': ['Rishikesh Kulkarni'], 'CM Stage': None, 'Completed In Sprint': 'S19', 'Created Date': datetime.datetime(2020, 6, 12, 6, 23), 'Current Sprint': 'S19', 'DoD': 'To define the quarterly planning cycle for IT Enablement. To be shared at IT Townhall', 'Due Date': datetime.date(2020, 6, 17), 'End Date': None, 'Last Edited Date': datetime.datetime(2020, 6, 19, 9, 44), 'Lever': 'Account Management', 'Priority': 'High', 'Sprint Planned For': 'S19', 'Start Date': datetime.date(2020, 6, 15), 'Status': 'Completed', 'Supporting Members': [], 'Track': ['IT Enablement']}, {'Name': 'Agile for business Deck + Conducting method', 'Assignee': ['Rachna Ravi'], 'CM Stage': None, 'Completed In Sprint': None, 'Created Date': datetime.datetime(2020, 5, 20, 8, 47), 'Current Sprint': 'S20', 'DoD': 'To revise the Agile 101 deck, standardise the same for business, and also decide on a method to conduct the same at client side', 'Due Date': datetime.date(2020, 6, 1), 'End Date': None, 'Last Edited Date': datetime.datetime(2020, 6, 25, 5, 41), 'Lever': 'Process and Tech', 'Priority': 'High', 'Sprint Planned For': None, 'Start Date': None, 'Status': 'In Review', 'Supporting Members': [], 'Track': ['Digital SME']}, {'Name': 'DSC Effectiveness', 'Assignee': ['Aayushi Paliwal', 'Preethi Madhu'], 'CM Stage': 'Discover', 'Completed In Sprint': None, 'Created Date': datetime.datetime(2020, 5, 12, 4, 58), 'Current Sprint': 'S20', 'DoD': 'Based on discussion with DK and Alvin,\\nCreate visuaizations to show that of the %age of projects planned, how many WIP, How many \"Not picked up\".\\nThe data will be shared by Valerie or Lia\\n', 'Due Date': datetime.date(2020, 6, 1), 'End Date': None, 'Last Edited Date': datetime.datetime(2020, 6, 29, 10, 20), 'Lever': 'Org and Governance', 'Priority': 'Medium', 'Sprint Planned For': 'S17', 'Start Date': datetime.date(2020, 5, 15), 'Status': 'In Review', 'Supporting Members': [], 'Track': ['IT Enablement']}, {'Name': 'Update SolArch role on Integral', 'Assignee': ['Ananth H N'], 'CM Stage': None, 'Completed In Sprint': 'S19', 'Created Date': datetime.datetime(2020, 6, 4, 4, 37), 'Current Sprint': 'S19', 'DoD': '', 'Due Date': None, 'End Date': datetime.date(2020, 6, 6), 'Last Edited Date': datetime.datetime(2020, 6, 19, 9, 45), 'Lever': 'People and Competencies', 'Priority': 'High', 'Sprint Planned For': 'S18', 'Start Date': datetime.date(2020, 6, 2), 'Status': 'Completed', 'Supporting Members': [], 'Track': ['Integral']}, {'Name': 'BV CV Deck for Tjhai', 'Assignee': ['Ananth H N'], 'CM Stage': 'Define and Design', 'Completed In Sprint': 'S17', 'Created Date': datetime.datetime(2020, 5, 11, 3, 26), 'Current Sprint': 'S17', 'DoD': 'Modify the existing deck to include business perspective', 'Due Date': datetime.date(2020, 5, 12), 'End Date': None, 'Last Edited Date': datetime.datetime(2020, 5, 12, 11, 6), 'Lever': 'Process and Tech', 'Priority': 'Critical', 'Sprint Planned For': 'S17', 'Start Date': datetime.date(2020, 5, 11), 'Status': 'Completed', 'Supporting Members': [], 'Track': ['COS Lending']}, {'Name': 'Analysis of Feedback received on 360 Feedback Model', 'Assignee': ['Aayushi Paliwal'], 'CM Stage': None, 'Completed In Sprint': 'S17', 'Created Date': datetime.datetime(2020, 5, 14, 8, 58), 'Current Sprint': 'S17', 'DoD': 'Analyse the feedback results received on the 360 Feedback Model at the bank', 'Due Date': None, 'End Date': datetime.date(2020, 5, 15), 'Last Edited Date': datetime.datetime(2020, 5, 18, 10, 6), 'Lever': 'People and Competencies', 'Priority': 'Critical', 'Sprint Planned For': None, 'Start Date': None, 'Status': 'Completed', 'Supporting Members': [], 'Track': ['Sunray']}, {'Name': 'Add Individual trend in CHIP report card for version 2 of the report', 'Assignee': ['Kshitiz Kshitiz', 'Rachna Ravi'], 'CM Stage': None, 'Completed In Sprint': 'S17', 'Created Date': datetime.datetime(2020, 5, 12, 18, 16), 'Current Sprint': 'S17', 'DoD': '-Create chip weekly report card with scores and mentor feedback\\n-Add one more report for individual trends for their scores on various aspects for mid academty and post academy reports', 'Due Date': datetime.date(2020, 5, 15), 'End Date': datetime.date(2020, 5, 15), 'Last Edited Date': datetime.datetime(2020, 5, 22, 4, 55), 'Lever': 'People and Competencies', 'Priority': 'High', 'Sprint Planned For': None, 'Start Date': datetime.date(2020, 5, 13), 'Status': 'Completed', 'Supporting Members': [], 'Track': ['IT Enablement']}, {'Name': 'Update Magnus Document for Bank IT', 'Assignee': ['Rachna Ravi', 'Venkat R'], 'CM Stage': 'Define and Design', 'Completed In Sprint': 'S17', 'Created Date': datetime.datetime(2020, 4, 26, 4, 42), 'Current Sprint': 'S17', 'DoD': '- To update the Magnus document with changes made recently\\n- To reformat document to make it more readable', 'Due Date': datetime.date(2020, 4, 30), 'End Date': datetime.date(2020, 5, 25), 'Last Edited Date': datetime.datetime(2020, 5, 26, 3, 39), 'Lever': 'Org and Governance', 'Priority': 'Medium', 'Sprint Planned For': 'S15', 'Start Date': datetime.date(2020, 4, 24), 'Status': 'Completed', 'Supporting Members': [], 'Track': ['IT Enablement']}, {'Name': 'Draft Process Assessment Survey for Jenius', 'Assignee': ['Rishikesh Kulkarni'], 'CM Stage': 'Define and Design', 'Completed In Sprint': 'S17', 'Created Date': datetime.datetime(2020, 4, 30, 5, 3), 'Current Sprint': 'S17', 'DoD': 'Modify the Jenius Assessment (shared by Rachna) to reflect the two objectives below and have a draft ready for discussion:\\n1. Planned vs Actual across squads to identify which squads are doing well and which are not\\n2. Identify whether the squads are where we want them to be in terms of standardization of practices such as Sprint Planning, Calendars, Retro etc.', 'Due Date': datetime.date(2020, 5, 11), 'End Date': datetime.date(2020, 5, 13), 'Last Edited Date': datetime.datetime(2020, 5, 13, 3, 5), 'Lever': 'Org and Governance', 'Priority': 'High', 'Sprint Planned For': 'S16', 'Start Date': datetime.date(2020, 5, 7), 'Status': 'Completed', 'Supporting Members': [], 'Track': ['Jenius']}, {'Name': 'Engagement Boost for Sunray', 'Assignee': ['Rachna Ravi', 'Aayushi Paliwal'], 'CM Stage': None, 'Completed In Sprint': 'S16', 'Created Date': datetime.datetime(2020, 4, 26, 4, 12), 'Current Sprint': 'S16', 'DoD': 'Want to make the participants of Sunray feel more involved and create ownership for Sunray.', 'Due Date': datetime.date(2020, 4, 22), 'End Date': datetime.date(2020, 5, 5), 'Last Edited Date': datetime.datetime(2020, 5, 11, 10, 17), 'Lever': 'Account Management', 'Priority': 'Medium', 'Sprint Planned For': 'S15', 'Start Date': datetime.date(2020, 4, 14), 'Status': 'Completed', 'Supporting Members': [], 'Track': ['IT Enablement', 'Sunray']}, {'Name': 'DSME - Storyline for proposed product capabilities', 'Assignee': ['Shaijin Usman'], 'CM Stage': None, 'Completed In Sprint': 'S19', 'Created Date': datetime.datetime(2020, 6, 2, 5, 39), 'Current Sprint': 'S19', 'DoD': 'Identify features under proposed capabilities and create a storyline around the same', 'Due Date': datetime.date(2020, 6, 12), 'End Date': None, 'Last Edited Date': datetime.datetime(2020, 6, 19, 9, 46), 'Lever': None, 'Priority': 'High', 'Sprint Planned For': 'S19', 'Start Date': datetime.date(2020, 6, 1), 'Status': 'Completed', 'Supporting Members': ['Aayushi Paliwal'], 'Track': ['Digital SME']}, {'Name': 'Create feedback form for CHIPs for Enablement feedback ', 'Assignee': ['Kshitiz Kshitiz'], 'CM Stage': 'Coach and Enable', 'Completed In Sprint': None, 'Created Date': datetime.datetime(2020, 6, 3, 9, 16), 'Current Sprint': 'S20', 'DoD': 'Create Survey to take feedback from the CHIPs working on live projects', 'Due Date': datetime.date(2020, 6, 5), 'End Date': None, 'Last Edited Date': datetime.datetime(2020, 6, 19, 9, 45), 'Lever': 'People and Competencies', 'Priority': 'High', 'Sprint Planned For': 'S18', 'Start Date': datetime.date(2020, 6, 3), 'Status': 'Waiting For Client', 'Supporting Members': [], 'Track': ['IT Enablement']}, {'Name': 'Finalise UI for the prototype', 'Assignee': ['Shaijin Usman'], 'CM Stage': None, 'Completed In Sprint': None, 'Created Date': datetime.datetime(2020, 6, 19, 9, 19), 'Current Sprint': 'S20', 'DoD': '1. Introduce and get agreement on the UI of the platform', 'Due Date': None, 'End Date': None, 'Last Edited Date': datetime.datetime(2020, 6, 29, 4, 10), 'Lever': None, 'Priority': 'High', 'Sprint Planned For': None, 'Start Date': None, 'Status': 'In Progress', 'Supporting Members': ['Aayushi Paliwal'], 'Track': ['Digital SME']}, {'Name': 'PO/SM Bootcamp Deck', 'Assignee': ['Ananth H N'], 'CM Stage': 'Define and Design', 'Completed In Sprint': None, 'Created Date': datetime.datetime(2020, 6, 29, 9, 56), 'Current Sprint': 'S20', 'DoD': 'Create a deck to highlight the proposed structure and high level plan ', 'Due Date': None, 'End Date': None, 'Last Edited Date': datetime.datetime(2020, 6, 29, 9, 57), 'Lever': 'People and Competencies', 'Priority': 'High', 'Sprint Planned For': None, 'Start Date': None, 'Status': 'In Progress', 'Supporting Members': [], 'Track': ['HC']}, {'Name': 'Define Standard Development related Practices for the Squad', 'Assignee': ['Kshitiz Kshitiz'], 'CM Stage': None, 'Completed In Sprint': None, 'Created Date': datetime.datetime(2020, 6, 12, 9, 57), 'Current Sprint': 'S20', 'DoD': 'Define expectations of a standard for Development related practices for a Squad in Jenius', 'Due Date': None, 'End Date': None, 'Last Edited Date': datetime.datetime(2020, 6, 29, 10, 17), 'Lever': 'Process and Tech', 'Priority': 'Medium', 'Sprint Planned For': None, 'Start Date': None, 'Status': 'In Progress', 'Supporting Members': [], 'Track': ['Jenius']}, {'Name': 'Adherence to Sprint Practices Deck V2', 'Assignee': ['Rachna Ravi'], 'CM Stage': 'Define and Design', 'Completed In Sprint': None, 'Created Date': datetime.datetime(2020, 5, 12, 4, 44), 'Current Sprint': 'S20', 'DoD': 'Based on input from DK and Alvin, update the existing deck to put more focus on Reinforcement of Frameworks', 'Due Date': datetime.date(2020, 5, 18), 'End Date': None, 'Last Edited Date': datetime.datetime(2020, 6, 19, 9, 43), 'Lever': 'People and Competencies', 'Priority': 'Medium', 'Sprint Planned For': 'S17', 'Start Date': None, 'Status': 'In Progress', 'Supporting Members': [], 'Track': ['IT Enablement']}, {'Name': 'Mentor Session Feedback', 'Assignee': ['Paridhi Gupta'], 'CM Stage': 'Coach and Enable', 'Completed In Sprint': 'S17', 'Created Date': datetime.datetime(2020, 5, 14, 5, 51), 'Current Sprint': 'S17', 'DoD': \"Collate the findings and share the deck on mentor's feedback session with Borries\", 'Due Date': datetime.date(2020, 5, 15), 'End Date': datetime.date(2020, 5, 18), 'Last Edited Date': datetime.datetime(2020, 5, 18, 10, 9), 'Lever': 'People and Competencies', 'Priority': 'High', 'Sprint Planned For': 'S17', 'Start Date': datetime.date(2020, 5, 14), 'Status': 'Completed', 'Supporting Members': [], 'Track': ['Sunray']}, {'Name': 'Mentor Session | Journey 2', 'Assignee': ['Paridhi Gupta'], 'CM Stage': 'Coach and Enable', 'Completed In Sprint': 'S17', 'Created Date': datetime.datetime(2020, 5, 11, 9, 44), 'Current Sprint': 'S17', 'DoD': 'To run the Journey 2 session for new mentors and collect session feedback on the same', 'Due Date': datetime.date(2020, 5, 13), 'End Date': None, 'Last Edited Date': datetime.datetime(2020, 5, 22, 4, 55), 'Lever': 'People and Competencies', 'Priority': 'High', 'Sprint Planned For': 'S16', 'Start Date': datetime.date(2020, 5, 13), 'Status': 'Completed', 'Supporting Members': [], 'Track': ['COP']}, {'Name': 'Ideate to sustain adherence to Sprint Practices', 'Assignee': ['Rachna Ravi'], 'CM Stage': 'Sustain and Scale', 'Completed In Sprint': 'S17', 'Created Date': datetime.datetime(2020, 4, 29, 9, 21), 'Current Sprint': 'S17', 'DoD': 'Come up with ideas to ensure IT Enablement teams follow the Sprint Practices laid out to them in Stage 1 (Velocity and Hygiene) and discuss the same with DK and Alvin', 'Due Date': datetime.date(2020, 5, 7), 'End Date': datetime.date(2020, 5, 12), 'Last Edited Date': datetime.datetime(2020, 5, 12, 4, 48), 'Lever': 'Process and Tech', 'Priority': 'High', 'Sprint Planned For': 'S16', 'Start Date': datetime.date(2020, 5, 4), 'Status': 'Completed', 'Supporting Members': [], 'Track': ['IT Enablement']}, {'Name': 'Epic Standardization Deck', 'Assignee': ['Ananth H N'], 'CM Stage': 'Define and Design', 'Completed In Sprint': 'S17', 'Created Date': datetime.datetime(2020, 4, 26, 4, 1), 'Current Sprint': 'S17', 'DoD': 'To prepare a deck for internal and external introduction to concept of epic standardisation with an example', 'Due Date': datetime.date(2020, 4, 22), 'End Date': None, 'Last Edited Date': datetime.datetime(2020, 5, 12, 11, 5), 'Lever': 'Process and Tech', 'Priority': 'Medium', 'Sprint Planned For': 'S15', 'Start Date': datetime.date(2020, 1, 27), 'Status': 'Completed', 'Supporting Members': [], 'Track': ['IT Enablement']}, {'Name': 'WOW Requirement for COS Lending - Inception Prep', 'Assignee': [], 'CM Stage': None, 'Completed In Sprint': None, 'Created Date': datetime.datetime(2020, 6, 18, 2, 53), 'Current Sprint': 'S20', 'DoD': 'Prepare for the inception of the WOW requirement within COS Lending', 'Due Date': None, 'End Date': None, 'Last Edited Date': datetime.datetime(2020, 6, 22, 3, 44), 'Lever': 'Process and Tech', 'Priority': 'High', 'Sprint Planned For': None, 'Start Date': None, 'Status': 'Dropped', 'Supporting Members': [], 'Track': ['COS Lending']}, {'Name': 'Definition of NonTech Bootcamps | UX', 'Assignee': [], 'CM Stage': 'Define and Design', 'Completed In Sprint': None, 'Created Date': datetime.datetime(2020, 4, 26, 4, 22), 'Current Sprint': 'S20', 'DoD': 'To define approach to bootcamps for\\n- UX\\nto include design sprints, inceptions, agile planning and analysis, negotiation etc', 'Due Date': datetime.date(2020, 4, 30), 'End Date': None, 'Last Edited Date': datetime.datetime(2020, 6, 19, 9, 45), 'Lever': 'People and Competencies', 'Priority': 'Medium', 'Sprint Planned For': 'S15', 'Start Date': datetime.date(2020, 3, 26), 'Status': 'Dropped', 'Supporting Members': [], 'Track': ['COP']}, {'Name': 'Definition of NonTech Bootcamps | PO', 'Assignee': [], 'CM Stage': 'Define and Design', 'Completed In Sprint': None, 'Created Date': datetime.datetime(2020, 4, 26, 4, 25), 'Current Sprint': 'S20', 'DoD': 'To define approach to bootcamps for\\n- PO\\nto include design sprints, inceptions, agile planning and analysis, negotiation etc', 'Due Date': datetime.date(2020, 4, 24), 'End Date': None, 'Last Edited Date': datetime.datetime(2020, 6, 19, 9, 45), 'Lever': 'People and Competencies', 'Priority': 'Medium', 'Sprint Planned For': 'S15', 'Start Date': datetime.date(2020, 4, 14), 'Status': 'Dropped', 'Supporting Members': [], 'Track': ['COP']}, {'Name': 'Next Steps on Career path', 'Assignee': ['Paridhi Gupta'], 'CM Stage': 'Coach and Enable', 'Completed In Sprint': None, 'Created Date': datetime.datetime(2020, 5, 26, 10, 15), 'Current Sprint': 'S20', 'DoD': 'Need to create an end to end mapping for the CHIP journey through the Career Path model and discuss the same with Borries', 'Due Date': None, 'End Date': None, 'Last Edited Date': datetime.datetime(2020, 6, 22, 10, 1), 'Lever': 'People and Competencies', 'Priority': 'Medium', 'Sprint Planned For': 'S18', 'Start Date': datetime.date(2020, 6, 11), 'Status': 'In Progress', 'Supporting Members': [], 'Track': ['IT Enablement']}, {'Name': 'Skill List: PO & SM (Deck)', 'Assignee': ['Ananth H N'], 'CM Stage': 'Define and Design', 'Completed In Sprint': None, 'Created Date': datetime.datetime(2020, 4, 26, 4, 1), 'Current Sprint': 'S20', 'DoD': 'Define a skill list for POs and SMs', 'Due Date': datetime.date(2020, 4, 23), 'End Date': None, 'Last Edited Date': datetime.datetime(2020, 6, 29, 10, 16), 'Lever': 'People and Competencies', 'Priority': 'Medium', 'Sprint Planned For': 'S15', 'Start Date': datetime.date(2020, 3, 31), 'Status': 'In Progress', 'Supporting Members': [], 'Track': ['COP']}, {'Name': 'ITSP Post July Proposal', 'Assignee': ['Rachna Ravi', 'Rishikesh Kulkarni', 'Aayushi Paliwal'], 'CM Stage': None, 'Completed In Sprint': 'S15', 'Created Date': datetime.datetime(2020, 4, 26, 4, 40), 'Current Sprint': 'S16', 'DoD': 'Create a deck for the proposal of extension post July with ITSP', 'Due Date': datetime.date(2020, 4, 24), 'End Date': datetime.date(2020, 4, 24), 'Last Edited Date': datetime.datetime(2020, 5, 4, 5, 46, 55, 922000), 'Lever': 'Process and Tech', 'Priority': 'High', 'Sprint Planned For': 'S15', 'Start Date': datetime.date(2020, 4, 12), 'Status': 'Completed', 'Supporting Members': [], 'Track': ['ITSP']}, {'Name': 'Org Assessment for ITSP', 'Assignee': ['Preethi Madhu'], 'CM Stage': 'Define and Design', 'Completed In Sprint': 'S16', 'Created Date': datetime.datetime(2020, 4, 26, 4, 53), 'Current Sprint': 'S16', 'DoD': 'Create the model for all aspects of the ITaaS . -\\n- IaaS - Done\\n- PaaS - Done\\n- SaaS- Pending\\n- DaaS - Pending\\n- TaaS - Done', 'Due Date': datetime.date(2020, 3, 20), 'End Date': None, 'Last Edited Date': datetime.datetime(2020, 5, 8, 7, 55), 'Lever': 'Process and Tech', 'Priority': 'High', 'Sprint Planned For': None, 'Start Date': datetime.date(2020, 2, 14), 'Status': 'Completed', 'Supporting Members': [], 'Track': ['ITSP']}, {'Name': 'Mentor Session: New Mentors', 'Assignee': ['Rachna Ravi'], 'CM Stage': 'Coach and Enable', 'Completed In Sprint': 'S15', 'Created Date': datetime.datetime(2020, 4, 26, 4, 36), 'Current Sprint': 'S16', 'DoD': 'Journey 2 for mentors in Bank IT', 'Due Date': datetime.date(2020, 4, 15), 'End Date': datetime.date(2020, 4, 15), 'Last Edited Date': datetime.datetime(2020, 4, 26, 4, 42), 'Lever': 'People and Competencies', 'Priority': 'Medium', 'Sprint Planned For': 'S15', 'Start Date': datetime.date(2020, 4, 14), 'Status': 'Completed', 'Supporting Members': [], 'Track': ['IT Enablement']}, {'Name': 'ITaaS Deck based on research', 'Assignee': ['Rishikesh Kulkarni'], 'CM Stage': 'Define and Design', 'Completed In Sprint': 'S15', 'Created Date': datetime.datetime(2020, 4, 26, 4, 36), 'Current Sprint': 'S16', 'DoD': 'To prepare a document showcasing how ITaaS has been adopted by different orgs and their roadmap, along with an aspired maturity state for Bank', 'Due Date': datetime.date(2020, 4, 13), 'End Date': datetime.date(2020, 4, 13), 'Last Edited Date': datetime.datetime(2020, 4, 26, 4, 44), 'Lever': 'Process and Tech', 'Priority': 'Medium', 'Sprint Planned For': 'S15', 'Start Date': datetime.date(2020, 3, 17), 'Status': 'Completed', 'Supporting Members': [], 'Track': ['ITSP']}, {'Name': '', 'Assignee': [], 'CM Stage': None, 'Completed In Sprint': None, 'Created Date': datetime.datetime(2020, 6, 29, 10, 3), 'Current Sprint': 'S20', 'DoD': '', 'Due Date': None, 'End Date': None, 'Last Edited Date': datetime.datetime(2020, 6, 29, 10, 3), 'Lever': None, 'Priority': None, 'Sprint Planned For': None, 'Start Date': None, 'Status': 'Backlog', 'Supporting Members': [], 'Track': []}, {'Name': 'COS Lending Enablement - Sprint Planning', 'Assignee': ['Rishikesh Kulkarni', 'Srikar Perala'], 'CM Stage': None, 'Completed In Sprint': None, 'Created Date': datetime.datetime(2020, 6, 29, 4, 53), 'Current Sprint': 'S20', 'DoD': 'Enable the Lending Teams to do Sprint Planning', 'Due Date': None, 'End Date': None, 'Last Edited Date': datetime.datetime(2020, 6, 29, 4, 54), 'Lever': None, 'Priority': 'High', 'Sprint Planned For': None, 'Start Date': None, 'Status': 'Backlog', 'Supporting Members': [], 'Track': ['COS Lending']}, {'Name': 'Tableau Dashboard Wireframe', 'Assignee': ['Rishikesh Kulkarni'], 'CM Stage': None, 'Completed In Sprint': None, 'Created Date': datetime.datetime(2020, 6, 4, 5, 24), 'Current Sprint': 'S20', 'DoD': 'Based on possible data extraction from Jira, create teh dashboard wireframe for Tableau', 'Due Date': None, 'End Date': None, 'Last Edited Date': datetime.datetime(2020, 6, 22, 10, 25), 'Lever': 'Org and Governance', 'Priority': 'High', 'Sprint Planned For': None, 'Start Date': None, 'Status': 'Backlog', 'Supporting Members': [], 'Track': ['IT Enablement']}, {'Name': 'Mentor Session | Journey 3', 'Assignee': ['Paridhi Gupta'], 'CM Stage': 'Coach and Enable', 'Completed In Sprint': None, 'Created Date': datetime.datetime(2020, 4, 27, 5, 2), 'Current Sprint': 'S20', 'DoD': 'To run the Journey 3 session for at least 2 groups and collect session feedback on the same', 'Due Date': datetime.date(2020, 5, 7), 'End Date': None, 'Last Edited Date': datetime.datetime(2020, 6, 19, 9, 41), 'Lever': 'People and Competencies', 'Priority': 'High', 'Sprint Planned For': 'S16', 'Start Date': datetime.date(2020, 4, 28), 'Status': 'Backlog', 'Supporting Members': [], 'Track': ['COP']}, {'Name': 'Business Value document - Guidelines', 'Assignee': ['Rachna Ravi'], 'CM Stage': 'Define and Design', 'Completed In Sprint': 'S16', 'Created Date': datetime.datetime(2020, 4, 26, 3, 57), 'Current Sprint': 'S16', 'DoD': 'Define guideline document in word or confluence for individuals to understand the score card and identifying prioritisation using BV+CV', 'Due Date': datetime.date(2020, 4, 23), 'End Date': None, 'Last Edited Date': datetime.datetime(2020, 5, 8, 7, 55), 'Lever': 'Process and Tech', 'Priority': 'Medium', 'Sprint Planned For': 'S15', 'Start Date': datetime.date(2020, 2, 10), 'Status': 'Completed', 'Supporting Members': [], 'Track': ['IT Enablement']}, {'Name': 'Feedback: 360 and cycle process', 'Assignee': ['Aayushi Paliwal'], 'CM Stage': 'Define and Design', 'Completed In Sprint': 'S16', 'Created Date': datetime.datetime(2020, 4, 26, 4, 23), 'Current Sprint': 'S16', 'DoD': 'Prepare survey questionnaire to obtain feedback from everyone on the ground in IT Enablement who has gone through 360 cycle. ', 'Due Date': datetime.date(2020, 4, 24), 'End Date': None, 'Last Edited Date': datetime.datetime(2020, 5, 8, 7, 55), 'Lever': 'People and Competencies', 'Priority': 'Medium', 'Sprint Planned For': 'S15', 'Start Date': datetime.date(2020, 4, 21), 'Status': 'Completed', 'Supporting Members': [], 'Track': ['IT Enablement']}, {'Name': 'Research on Fintech in Commercial banking', 'Assignee': ['Aayushi Paliwal', 'Shaijin Usman'], 'CM Stage': 'Discover', 'Completed In Sprint': 'S15', 'Created Date': datetime.datetime(2020, 4, 26, 4, 6), 'Current Sprint': 'S16', 'DoD': 'Research on up-coming commercial banking organisations in EMEA, Asia & North American market', 'Due Date': datetime.date(2020, 4, 15), 'End Date': datetime.date(2020, 4, 15), 'Last Edited Date': datetime.datetime(2020, 4, 26, 4, 48), 'Lever': None, 'Priority': None, 'Sprint Planned For': 'S15', 'Start Date': datetime.date(2020, 3, 30), 'Status': 'Completed', 'Supporting Members': [], 'Track': ['Digital SME']}, {'Name': 'BV+Cv session for COS-Lending', 'Assignee': ['Preethi Madhu', 'Rishikesh Kulkarni'], 'CM Stage': 'Coach and Enable', 'Completed In Sprint': 'S17', 'Created Date': datetime.datetime(2020, 4, 26, 3, 48), 'Current Sprint': 'S17', 'DoD': ' one for Teams', 'Due Date': datetime.date(2020, 5, 15), 'End Date': None, 'Last Edited Date': datetime.datetime(2020, 6, 22, 10, 33), 'Lever': 'Process and Tech', 'Priority': 'Medium', 'Sprint Planned For': 'S15', 'Start Date': datetime.date(2020, 4, 16), 'Status': 'Completed', 'Supporting Members': [], 'Track': ['IT Enablement', 'COS Lending']}, {'Name': 'Data POC', 'Assignee': [], 'CM Stage': None, 'Completed In Sprint': None, 'Created Date': datetime.datetime(2020, 5, 8, 7, 52), 'Current Sprint': None, 'DoD': '', 'Due Date': None, 'End Date': None, 'Last Edited Date': datetime.datetime(2020, 5, 8, 7, 52), 'Lever': None, 'Priority': None, 'Sprint Planned For': None, 'Start Date': None, 'Status': 'Backlog', 'Supporting Members': [], 'Track': []}, {'Name': 'Non-tech Bootcamp: Competency list for PO, SM, UX - Focus on UX', 'Assignee': ['Shaijin Usman', 'Preethi Madhu'], 'CM Stage': None, 'Completed In Sprint': None, 'Created Date': datetime.datetime(2020, 5, 11, 3, 12), 'Current Sprint': 'S20', 'DoD': '', 'Due Date': datetime.date(2020, 5, 12), 'End Date': None, 'Last Edited Date': datetime.datetime(2020, 6, 25, 5, 19), 'Lever': 'People and Competencies', 'Priority': 'Medium', 'Sprint Planned For': None, 'Start Date': datetime.date(2020, 5, 5), 'Status': 'On Hold', 'Supporting Members': ['Srikar Perala'], 'Track': []}, {'Name': 'Relook at Data POC Metrics', 'Assignee': ['Rishikesh Kulkarni', 'Naveen S', 'Kshitiz Kshitiz'], 'CM Stage': None, 'Completed In Sprint': None, 'Created Date': datetime.datetime(2020, 6, 29, 10, 3), 'Current Sprint': 'S20', 'DoD': 'Relook and revise the Data POC Sheet', 'Due Date': None, 'End Date': None, 'Last Edited Date': datetime.datetime(2020, 6, 29, 10, 6), 'Lever': 'Org and Governance', 'Priority': 'Medium', 'Sprint Planned For': None, 'Start Date': None, 'Status': 'Planned', 'Supporting Members': [], 'Track': ['IT Enablement']}, {'Name': 'Define parameters to track recognition behaviours - part of the Adherence to Sprint PRacices deck', 'Assignee': ['Rachna Ravi'], 'CM Stage': 'Define and Design', 'Completed In Sprint': None, 'Created Date': datetime.datetime(2020, 5, 15, 9, 6), 'Current Sprint': 'S20', 'DoD': 'To define measures to trck behaviours within the COP and align with offline Sunray on the same', 'Due Date': datetime.date(2020, 5, 19), 'End Date': None, 'Last Edited Date': datetime.datetime(2020, 6, 19, 9, 41), 'Lever': 'People and Competencies', 'Priority': 'High', 'Sprint Planned For': 'S17', 'Start Date': datetime.date(2020, 5, 16), 'Status': 'Planned', 'Supporting Members': [], 'Track': ['Sunray']}, {'Name': 'Recognition Model Roll Out', 'Assignee': ['Paridhi Gupta'], 'CM Stage': None, 'Completed In Sprint': None, 'Created Date': datetime.datetime(2020, 4, 27, 5, 9), 'Current Sprint': 'S20', 'DoD': 'To plan the roll out of the recognition model given the current scenario of WFH', 'Due Date': None, 'End Date': None, 'Last Edited Date': datetime.datetime(2020, 6, 19, 9, 41), 'Lever': 'People and Competencies', 'Priority': 'High', 'Sprint Planned For': None, 'Start Date': None, 'Status': 'Backlog', 'Supporting Members': [], 'Track': ['IT Enablement']}, {'Name': 'Review Content on Confluence', 'Assignee': ['Preethi Madhu', 'Aayushi Paliwal', 'Rishikesh Kulkarni'], 'CM Stage': None, 'Completed In Sprint': None, 'Created Date': datetime.datetime(2020, 6, 16, 4, 56), 'Current Sprint': 'S20', 'DoD': 'To review the content from Greyamp on WoW that is available on Confluence. Have the same updated and moved to the Digital Transformation Space from the Sunray Space', 'Due Date': datetime.date(2020, 6, 24), 'End Date': None, 'Last Edited Date': datetime.datetime(2020, 6, 19, 9, 41), 'Lever': 'Org and Governance', 'Priority': 'High', 'Sprint Planned For': 'S19', 'Start Date': datetime.date(2020, 6, 19), 'Status': 'Backlog', 'Supporting Members': [], 'Track': ['Sunray']}, {'Name': 'Finalise user experience for the platform', 'Assignee': ['Shaijin Usman'], 'CM Stage': None, 'Completed In Sprint': None, 'Created Date': datetime.datetime(2020, 6, 19, 9, 22), 'Current Sprint': 'S20', 'DoD': '1. Get buy-in from DSME team on the experience that needs to be created for the platform', 'Due Date': None, 'End Date': None, 'Last Edited Date': datetime.datetime(2020, 6, 19, 9, 25), 'Lever': None, 'Priority': 'High', 'Sprint Planned For': None, 'Start Date': datetime.date(2020, 7, 1), 'Status': 'Backlog', 'Supporting Members': ['Aayushi Paliwal'], 'Track': ['Digital SME']}, {'Name': 'Introduce Way of Working Concepts to DSME team', 'Assignee': [], 'CM Stage': None, 'Completed In Sprint': None, 'Created Date': datetime.datetime(2020, 6, 19, 9, 26), 'Current Sprint': 'S20', 'DoD': '1. Introduce concepts and frameworks related to New Way of Working and obtain Buy-in from the Digital SME Team', 'Due Date': None, 'End Date': None, 'Last Edited Date': datetime.datetime(2020, 6, 19, 9, 27), 'Lever': '', 'Priority': 'High', 'Sprint Planned For': None, 'Start Date': None, 'Status': 'Backlog', 'Supporting Members': [], 'Track': ['Digital SME']}, {'Name': 'Conduct Agile 101 Sessions for DSME Team ', 'Assignee': [], 'CM Stage': None, 'Completed In Sprint': None, 'Created Date': datetime.datetime(2020, 6, 19, 9, 28), 'Current Sprint': 'S20', 'DoD': '1. Conduct Agile 101 sessions for teams in DSME', 'Due Date': None, 'End Date': None, 'Last Edited Date': datetime.datetime(2020, 6, 19, 9, 33), 'Lever': None, 'Priority': 'High', 'Sprint Planned For': None, 'Start Date': datetime.date(2020, 7, 8), 'Status': 'Backlog', 'Supporting Members': [], 'Track': ['Digital SME']}, {'Name': 'COS Sales Enablement - Sprint Planning', 'Assignee': [], 'CM Stage': None, 'Completed In Sprint': None, 'Created Date': datetime.datetime(2020, 6, 29, 4, 54), 'Current Sprint': 'S20', 'DoD': 'Enable squads on ground to perform Sprint Planning', 'Due Date': None, 'End Date': None, 'Last Edited Date': datetime.datetime(2020, 6, 29, 9, 23), 'Lever': None, 'Priority': 'High', 'Sprint Planned For': None, 'Start Date': None, 'Status': 'Backlog', 'Supporting Members': [], 'Track': ['COS Sales']}, {'Name': 'Community Level Dashboard for Enablement', 'Assignee': ['Rishikesh Kulkarni'], 'CM Stage': None, 'Completed In Sprint': None, 'Created Date': datetime.datetime(2020, 6, 12, 10, 6), 'Current Sprint': 'S20', 'DoD': 'Align on the Community level dashboard - will have to update Jira to match their requirements from Tableau else will have to decide on moving to Tableau completely and create wireframes', 'Due Date': None, 'End Date': None, 'Last Edited Date': datetime.datetime(2020, 6, 19, 9, 42), 'Lever': None, 'Priority': 'Medium', 'Sprint Planned For': None, 'Start Date': None, 'Status': 'Backlog', 'Supporting Members': [], 'Track': ['IT Enablement']}, {'Name': 'BV CV Deck and Scorecard Completion', 'Assignee': [], 'CM Stage': 'Define and Design', 'Completed In Sprint': None, 'Created Date': datetime.datetime(2020, 5, 14, 4, 43), 'Current Sprint': 'S20', 'DoD': 'Have the BV CV deck and scorecard completed as a standard reference material for all Bank and GA purposes', 'Due Date': None, 'End Date': None, 'Last Edited Date': datetime.datetime(2020, 6, 19, 9, 43), 'Lever': 'Process and Tech', 'Priority': 'Medium', 'Sprint Planned For': 'S17', 'Start Date': None, 'Status': 'Backlog', 'Supporting Members': [], 'Track': ['IT Enablement']}, {'Name': 'Identify Tools for Visualization of Data', 'Assignee': ['Rishikesh Kulkarni'], 'CM Stage': 'Discover', 'Completed In Sprint': None, 'Created Date': datetime.datetime(2020, 5, 13, 2, 8), 'Current Sprint': 'S20', 'DoD': 'To enable us to depict data better, we need to be able to visualize data. Hence to identify and document free tools for visualization of such data which can take in input from Jira and beyond', 'Due Date': None, 'End Date': None, 'Last Edited Date': datetime.datetime(2020, 6, 19, 9, 45), 'Lever': 'Org and Governance', 'Priority': 'Medium', 'Sprint Planned For': None, 'Start Date': None, 'Status': 'Dropped', 'Supporting Members': [], 'Track': ['IT Enablement']}, {'Name': 'Jenius Process Assessment Questionnaire V2', 'Assignee': ['Rishikesh Kulkarni'], 'CM Stage': None, 'Completed In Sprint': 'S18', 'Created Date': datetime.datetime(2020, 6, 4, 5, 23), 'Current Sprint': 'S18', 'DoD': 'Based on inputs from Asri, modify the questionnaire for Process Assessment', 'Due Date': None, 'End Date': None, 'Last Edited Date': datetime.datetime(2020, 6, 5, 8, 59), 'Lever': 'Process and Tech', 'Priority': 'High', 'Sprint Planned For': None, 'Start Date': None, 'Status': 'Completed', 'Supporting Members': [], 'Track': ['Jenius']}, {'Name': 'Research on DSME products in Indonesia', 'Assignee': ['Aayushi Paliwal'], 'CM Stage': None, 'Completed In Sprint': 'S18', 'Created Date': datetime.datetime(2020, 6, 2, 5, 35), 'Current Sprint': 'S18', 'DoD': 'Research on the Indonesian products shared by the DSME team:\\nhttps://www.jurnal.id/en\\nhttps://sleekr.co/hr/\\nhttps://www.talenta.co/\\nhttps://klikpajak.id/\\nhttps://www.ralali.com/\\nhttps://www.indotrading.com/', 'Due Date': datetime.date(2020, 6, 1), 'End Date': datetime.date(2020, 6, 1), 'Last Edited Date': datetime.datetime(2020, 6, 5, 8, 59), 'Lever': '', 'Priority': 'Medium', 'Sprint Planned For': 'S18', 'Start Date': datetime.date(2020, 5, 29), 'Status': 'Completed', 'Supporting Members': ['Shaijin Usman'], 'Track': ['Digital SME']}, {'Name': 'Identify plugin to track Cycle Time', 'Assignee': ['Srikar Perala'], 'CM Stage': None, 'Completed In Sprint': 'S18', 'Created Date': datetime.datetime(2020, 5, 13, 2, 11), 'Current Sprint': 'S18', 'DoD': 'Identify and set up a view to track Cycle Time of issues in Jira on the GA instance\\nAnd also document the steps for the same to be done in Bank', 'Due Date': datetime.date(2020, 5, 26), 'End Date': None, 'Last Edited Date': datetime.datetime(2020, 6, 5, 8, 59), 'Lever': 'Process and Tech', 'Priority': 'Medium', 'Sprint Planned For': 'S17', 'Start Date': datetime.date(2020, 5, 13), 'Status': 'Completed', 'Supporting Members': [], 'Track': ['IT Enablement']}, {'Name': 'Session on expectations & R&R of TPS with Sunray working group', 'Assignee': ['Paridhi Gupta'], 'CM Stage': 'Coach and Enable', 'Completed In Sprint': None, 'Created Date': datetime.datetime(2020, 6, 3, 5, 24), 'Current Sprint': 'S20', 'DoD': 'Refresher session (on R&Rs, expectations) for current Sunray working group and TPS', 'Due Date': None, 'End Date': None, 'Last Edited Date': datetime.datetime(2020, 6, 19, 9, 43), 'Lever': 'People and Competencies', 'Priority': 'Medium', 'Sprint Planned For': None, 'Start Date': None, 'Status': 'Backlog', 'Supporting Members': [], 'Track': ['Sunray', 'IT Enablement']}, {'Name': 'Consolidate the Jenius Assessment Result', 'Assignee': ['Rishikesh Kulkarni'], 'CM Stage': None, 'Completed In Sprint': None, 'Created Date': datetime.datetime(2020, 6, 12, 9, 43), 'Current Sprint': 'S20', 'DoD': 'Collect survey answers for all Squads and consolidate - create a deck with results', 'Due Date': None, 'End Date': None, 'Last Edited Date': datetime.datetime(2020, 6, 22, 10, 24), 'Lever': 'Process and Tech', 'Priority': 'High', 'Sprint Planned For': 'S19', 'Start Date': None, 'Status': 'Planned', 'Supporting Members': [], 'Track': ['Jenius']}, {'Name': 'Feedback session with CHIP Mentors', 'Assignee': ['Paridhi Gupta'], 'CM Stage': 'Coach and Enable', 'Completed In Sprint': 'S19', 'Created Date': datetime.datetime(2020, 6, 3, 5, 29), 'Current Sprint': 'S19', 'DoD': 'To schedule a feedback session with CHIP mentors to:\\n- get a feedback on their mentoring journey\\n- understand challenges/ issues faced\\n- discuss on what/ how could it be done better ', 'Due Date': datetime.date(2020, 6, 11), 'End Date': None, 'Last Edited Date': datetime.datetime(2020, 6, 16, 4, 55), 'Lever': 'People and Competencies', 'Priority': 'Medium', 'Sprint Planned For': None, 'Start Date': None, 'Status': 'Completed', 'Supporting Members': [], 'Track': ['IT Enablement']}, {'Name': 'COS Lending Deck', 'Assignee': ['Preethi Madhu'], 'CM Stage': 'Coach and Enable', 'Completed In Sprint': 'S18', 'Created Date': datetime.datetime(2020, 4, 26, 4, 1), 'Current Sprint': 'S18', 'DoD': 'Create COS Inception Deck for COS Lending and walkthrough', 'Due Date': datetime.date(2020, 4, 23), 'End Date': datetime.date(2020, 4, 23), 'Last Edited Date': datetime.datetime(2020, 6, 22, 10, 30), 'Lever': 'Process and Tech', 'Priority': 'Medium', 'Sprint Planned For': 'S15', 'Start Date': datetime.date(2020, 3, 16), 'Status': 'Completed', 'Supporting Members': [], 'Track': ['COS Lending']}, {'Name': 'Digital SME - Rapid Experiment - Creating prototype for testing with customers - define the storyline for the prototype', 'Assignee': ['Shaijin Usman'], 'CM Stage': None, 'Completed In Sprint': 'S18', 'Created Date': datetime.datetime(2020, 6, 3, 5, 8), 'Current Sprint': 'S18', 'DoD': '', 'Due Date': None, 'End Date': None, 'Last Edited Date': datetime.datetime(2020, 6, 5, 9, 5), 'Lever': 'Process and Tech', 'Priority': None, 'Sprint Planned For': None, 'Start Date': None, 'Status': 'Completed', 'Supporting Members': [], 'Track': ['Digital SME']}, {'Name': 'Jira Process Diagram', 'Assignee': ['Rishikesh Kulkarni'], 'CM Stage': 'Align and Aware', 'Completed In Sprint': None, 'Created Date': datetime.datetime(2020, 4, 26, 3, 41), 'Current Sprint': 'S20', 'DoD': 'Take the process Diagram from Asri and review it, make recommendations if applicable.', 'Due Date': None, 'End Date': datetime.date(2020, 4, 25), 'Last Edited Date': datetime.datetime(2020, 6, 22, 10, 24), 'Lever': 'Process and Tech', 'Priority': 'Medium', 'Sprint Planned For': 'S15', 'Start Date': datetime.date(2020, 4, 16), 'Status': 'Dropped', 'Supporting Members': [], 'Track': ['Jenius']}, {'Name': 'BDD Session with Jenius', 'Assignee': [], 'CM Stage': None, 'Completed In Sprint': None, 'Created Date': datetime.datetime(2020, 6, 12, 9, 39), 'Current Sprint': 'S20', 'DoD': 'Conduct a knowledge sharing session with Jenius teams on BDD', 'Due Date': None, 'End Date': None, 'Last Edited Date': datetime.datetime(2020, 6, 22, 10, 24), 'Lever': 'Process and Tech', 'Priority': 'Medium', 'Sprint Planned For': None, 'Start Date': None, 'Status': 'Backlog', 'Supporting Members': [], 'Track': ['Jenius']}, {'Name': 'Digital mindset for managers & Engagement Model', 'Assignee': ['Paridhi Gupta'], 'CM Stage': 'Coach and Enable', 'Completed In Sprint': None, 'Created Date': datetime.datetime(2020, 5, 4, 9, 52), 'Current Sprint': 'S20', 'DoD': 'DoD & Storyline:\\n- How does the managerial role change in today’s world including digital & covid\\n- Mindset shift a manager needs in this era\\n- New competencies that managers needs to learn (unlearn, relearn)\\n- Day in the life a manager in the digital world/ new era\\n- Enablement - approach for handholding and coaching of these managers (if time permits), otherwise this goes as a follow-up to the above approach deck', 'Due Date': datetime.date(2020, 5, 6), 'End Date': None, 'Last Edited Date': datetime.datetime(2020, 6, 22, 9, 57), 'Lever': 'People and Competencies', 'Priority': 'High', 'Sprint Planned For': 'S16', 'Start Date': datetime.date(2020, 5, 4), 'Status': 'Planned', 'Supporting Members': [], 'Track': ['IT Enablement']}, {'Name': 'Create/Plan DevOps Academy plan and content', 'Assignee': ['Kshitiz Kshitiz'], 'CM Stage': None, 'Completed In Sprint': None, 'Created Date': datetime.datetime(2020, 6, 25, 7, 1), 'Current Sprint': 'S20', 'DoD': '• Defined content to be delivered for the academy\\n• Defined assessments to be taken throughout the academy\\n• Defined outcomes with clear ways of measuring the same', 'Due Date': None, 'End Date': None, 'Last Edited Date': datetime.datetime(2020, 6, 25, 7, 4), 'Lever': 'Process and Tech', 'Priority': 'Medium', 'Sprint Planned For': None, 'Start Date': datetime.date(2020, 6, 26), 'Status': 'Backlog', 'Supporting Members': ['Naveen S', 'Rachna Ravi'], 'Track': ['IT Enablement']}, {'Name': 'Create/Plan Level 2-3 of Academy and content', 'Assignee': ['Kshitiz Kshitiz'], 'CM Stage': None, 'Completed In Sprint': None, 'Created Date': datetime.datetime(2020, 6, 25, 7, 3, 35, 163000), 'Current Sprint': 'S20', 'DoD': '• Defined content to be delivered for the academy\\n• Defined assessments to be taken throughout the academy\\n• Defined outcomes with clear ways of measuring the same', 'Due Date': None, 'End Date': None, 'Last Edited Date': datetime.datetime(2020, 6, 25, 7, 4), 'Lever': 'Process and Tech', 'Priority': 'Medium', 'Sprint Planned For': None, 'Start Date': datetime.date(2020, 6, 26), 'Status': 'Backlog', 'Supporting Members': ['Rachna Ravi'], 'Track': ['IT Enablement']}, {'Name': 'Product Manager Training', 'Assignee': [], 'CM Stage': None, 'Completed In Sprint': None, 'Created Date': datetime.datetime(2020, 6, 17, 2, 17), 'Current Sprint': 'S20', 'DoD': '', 'Due Date': None, 'End Date': None, 'Last Edited Date': datetime.datetime(2020, 6, 19, 9, 43), 'Lever': None, 'Priority': None, 'Sprint Planned For': None, 'Start Date': None, 'Status': 'Backlog', 'Supporting Members': [], 'Track': []}, {'Name': 'Define required practices for coaching POs in Jenius and begin coaching', 'Assignee': ['Rishikesh Kulkarni'], 'CM Stage': 'Coach and Enable', 'Completed In Sprint': None, 'Created Date': datetime.datetime(2020, 6, 22, 3, 39), 'Current Sprint': 'S20', 'DoD': 'Conenct with the concerned PO and identify the practices required to coach the PO on, and conduct at least 1 session for coaching', 'Due Date': None, 'End Date': None, 'Last Edited Date': datetime.datetime(2020, 6, 22, 10, 24), 'Lever': 'Process and Tech', 'Priority': 'Medium', 'Sprint Planned For': 'S20', 'Start Date': None, 'Status': 'Planned', 'Supporting Members': [], 'Track': ['Jenius']}, {'Name': 'Deck for TPS Refresher Session', 'Assignee': ['Paridhi Gupta'], 'CM Stage': None, 'Completed In Sprint': None, 'Created Date': datetime.datetime(2020, 6, 3, 5, 28), 'Current Sprint': 'S20', 'DoD': '', 'Due Date': datetime.date(2020, 6, 9), 'End Date': None, 'Last Edited Date': datetime.datetime(2020, 6, 22, 9, 57), 'Lever': 'People and Competencies', 'Priority': 'Medium', 'Sprint Planned For': None, 'Start Date': None, 'Status': 'Planned', 'Supporting Members': [], 'Track': ['IT Enablement', 'Sunray']}]\n"
     ]
    }
   ],
   "source": [
    "planningBoard = []\n",
    "for row in page.collection.get_rows():\n",
    "    \n",
    "    assignees = []\n",
    "    for user in row.assignee:\n",
    "        assignees.append(user.full_name)\n",
    "        \n",
    "    if(row.due_date != None):\n",
    "        dueDate = row.due_date.start\n",
    "    else:\n",
    "        dueDate = None\n",
    "    if(row.end_date != None):\n",
    "        endDate = row.end_date.start\n",
    "    else:\n",
    "        endDate = None\n",
    "    if(row.start_date != None):\n",
    "        startDate = row.start_date.start\n",
    "    else:\n",
    "        startDate = None\n",
    "        \n",
    "    supportingMembers = []\n",
    "    for user in row.supporting_members:\n",
    "        supportingMembers.append(user.full_name)\n",
    "        \n",
    "    card = {\"Name\":row.name,\n",
    "            \"Assignee\":assignees,\n",
    "            \"CM Stage\":row.cm_stage,\n",
    "            \"Completed In Sprint\":row.completed_in_sprint,\n",
    "            \"Created Date\":row.created_date,\n",
    "            \"Current Sprint\":row.current_sprint,\n",
    "            \"DoD\":row.dod,\n",
    "            \"Due Date\":dueDate,\n",
    "            \"End Date\":endDate,\n",
    "            \"Last Edited Date\":row.last_edited_date,\n",
    "            \"Lever\":row.lever,\n",
    "            \"Priority\":row.priority,\n",
    "            \"Sprint Planned For\":row.sprint_planned_for,\n",
    "            \"Start Date\":startDate,\n",
    "            \"Status\":row.status,\n",
    "            \"Supporting Members\":supportingMembers,\n",
    "            \"Track\":row.track\n",
    "           } \n",
    "    planningBoard.append(card)\n",
    "    \n",
    "    \n",
    "print(planningBoard)"
   ]
  },
  {
   "cell_type": "code",
   "execution_count": 180,
   "metadata": {},
   "outputs": [
    {
     "name": "stdout",
     "output_type": "stream",
     "text": [
      "{'On Hold': 3, 'Completed': 46, 'In Progress': 13, 'In Review': 2, 'Waiting For Client': 1, 'Dropped': 5, 'Backlog': 18, 'Planned': 6}\n",
      "               Status  Count\n",
      "0             On Hold      3\n",
      "1           Completed     46\n",
      "2         In Progress     13\n",
      "3           In Review      2\n",
      "4  Waiting For Client      1\n",
      "5             Dropped      5\n",
      "6             Backlog     18\n",
      "7             Planned      6\n"
     ]
    }
   ],
   "source": [
    "import pandas as pd\n",
    "import plotly.express as px\n",
    "cardStatusData= {}\n",
    "for card in planningBoard:\n",
    "    if card[\"Status\"] in cardStatusData:\n",
    "        cardStatusData[card[\"Status\"]] = cardStatusData[card[\"Status\"]] + 1\n",
    "    else:\n",
    "        cardStatusData[card[\"Status\"]] = 1\n",
    "        \n",
    "print(cardStatusData)\n",
    "df = pd.DataFrame(list(cardStatusData.items()),columns = ['Status','Count'])\n",
    "print(df)"
   ]
  },
  {
   "cell_type": "code",
   "execution_count": 187,
   "metadata": {},
   "outputs": [
    {
     "data": {
      "application/vnd.plotly.v1+json": {
       "config": {
        "plotlyServerURL": "https://plotly.com"
       },
       "data": [
        {
         "domain": {
          "x": [
           0,
           1
          ],
          "y": [
           0,
           1
          ]
         },
         "hovertemplate": "Status=%{label}<br>Count=%{value}<extra></extra>",
         "labels": [
          "On Hold",
          "Completed",
          "In Progress",
          "In Review",
          "Waiting For Client",
          "Dropped",
          "Backlog",
          "Planned"
         ],
         "legendgroup": "",
         "name": "",
         "showlegend": true,
         "textinfo": "value+label",
         "textposition": "inside",
         "type": "pie",
         "values": [
          3,
          46,
          13,
          2,
          1,
          5,
          18,
          6
         ]
        }
       ],
       "layout": {
        "legend": {
         "tracegroupgap": 0
        },
        "margin": {
         "t": 60
        },
        "template": {
         "data": {
          "bar": [
           {
            "error_x": {
             "color": "#2a3f5f"
            },
            "error_y": {
             "color": "#2a3f5f"
            },
            "marker": {
             "line": {
              "color": "#E5ECF6",
              "width": 0.5
             }
            },
            "type": "bar"
           }
          ],
          "barpolar": [
           {
            "marker": {
             "line": {
              "color": "#E5ECF6",
              "width": 0.5
             }
            },
            "type": "barpolar"
           }
          ],
          "carpet": [
           {
            "aaxis": {
             "endlinecolor": "#2a3f5f",
             "gridcolor": "white",
             "linecolor": "white",
             "minorgridcolor": "white",
             "startlinecolor": "#2a3f5f"
            },
            "baxis": {
             "endlinecolor": "#2a3f5f",
             "gridcolor": "white",
             "linecolor": "white",
             "minorgridcolor": "white",
             "startlinecolor": "#2a3f5f"
            },
            "type": "carpet"
           }
          ],
          "choropleth": [
           {
            "colorbar": {
             "outlinewidth": 0,
             "ticks": ""
            },
            "type": "choropleth"
           }
          ],
          "contour": [
           {
            "colorbar": {
             "outlinewidth": 0,
             "ticks": ""
            },
            "colorscale": [
             [
              0,
              "#0d0887"
             ],
             [
              0.1111111111111111,
              "#46039f"
             ],
             [
              0.2222222222222222,
              "#7201a8"
             ],
             [
              0.3333333333333333,
              "#9c179e"
             ],
             [
              0.4444444444444444,
              "#bd3786"
             ],
             [
              0.5555555555555556,
              "#d8576b"
             ],
             [
              0.6666666666666666,
              "#ed7953"
             ],
             [
              0.7777777777777778,
              "#fb9f3a"
             ],
             [
              0.8888888888888888,
              "#fdca26"
             ],
             [
              1,
              "#f0f921"
             ]
            ],
            "type": "contour"
           }
          ],
          "contourcarpet": [
           {
            "colorbar": {
             "outlinewidth": 0,
             "ticks": ""
            },
            "type": "contourcarpet"
           }
          ],
          "heatmap": [
           {
            "colorbar": {
             "outlinewidth": 0,
             "ticks": ""
            },
            "colorscale": [
             [
              0,
              "#0d0887"
             ],
             [
              0.1111111111111111,
              "#46039f"
             ],
             [
              0.2222222222222222,
              "#7201a8"
             ],
             [
              0.3333333333333333,
              "#9c179e"
             ],
             [
              0.4444444444444444,
              "#bd3786"
             ],
             [
              0.5555555555555556,
              "#d8576b"
             ],
             [
              0.6666666666666666,
              "#ed7953"
             ],
             [
              0.7777777777777778,
              "#fb9f3a"
             ],
             [
              0.8888888888888888,
              "#fdca26"
             ],
             [
              1,
              "#f0f921"
             ]
            ],
            "type": "heatmap"
           }
          ],
          "heatmapgl": [
           {
            "colorbar": {
             "outlinewidth": 0,
             "ticks": ""
            },
            "colorscale": [
             [
              0,
              "#0d0887"
             ],
             [
              0.1111111111111111,
              "#46039f"
             ],
             [
              0.2222222222222222,
              "#7201a8"
             ],
             [
              0.3333333333333333,
              "#9c179e"
             ],
             [
              0.4444444444444444,
              "#bd3786"
             ],
             [
              0.5555555555555556,
              "#d8576b"
             ],
             [
              0.6666666666666666,
              "#ed7953"
             ],
             [
              0.7777777777777778,
              "#fb9f3a"
             ],
             [
              0.8888888888888888,
              "#fdca26"
             ],
             [
              1,
              "#f0f921"
             ]
            ],
            "type": "heatmapgl"
           }
          ],
          "histogram": [
           {
            "marker": {
             "colorbar": {
              "outlinewidth": 0,
              "ticks": ""
             }
            },
            "type": "histogram"
           }
          ],
          "histogram2d": [
           {
            "colorbar": {
             "outlinewidth": 0,
             "ticks": ""
            },
            "colorscale": [
             [
              0,
              "#0d0887"
             ],
             [
              0.1111111111111111,
              "#46039f"
             ],
             [
              0.2222222222222222,
              "#7201a8"
             ],
             [
              0.3333333333333333,
              "#9c179e"
             ],
             [
              0.4444444444444444,
              "#bd3786"
             ],
             [
              0.5555555555555556,
              "#d8576b"
             ],
             [
              0.6666666666666666,
              "#ed7953"
             ],
             [
              0.7777777777777778,
              "#fb9f3a"
             ],
             [
              0.8888888888888888,
              "#fdca26"
             ],
             [
              1,
              "#f0f921"
             ]
            ],
            "type": "histogram2d"
           }
          ],
          "histogram2dcontour": [
           {
            "colorbar": {
             "outlinewidth": 0,
             "ticks": ""
            },
            "colorscale": [
             [
              0,
              "#0d0887"
             ],
             [
              0.1111111111111111,
              "#46039f"
             ],
             [
              0.2222222222222222,
              "#7201a8"
             ],
             [
              0.3333333333333333,
              "#9c179e"
             ],
             [
              0.4444444444444444,
              "#bd3786"
             ],
             [
              0.5555555555555556,
              "#d8576b"
             ],
             [
              0.6666666666666666,
              "#ed7953"
             ],
             [
              0.7777777777777778,
              "#fb9f3a"
             ],
             [
              0.8888888888888888,
              "#fdca26"
             ],
             [
              1,
              "#f0f921"
             ]
            ],
            "type": "histogram2dcontour"
           }
          ],
          "mesh3d": [
           {
            "colorbar": {
             "outlinewidth": 0,
             "ticks": ""
            },
            "type": "mesh3d"
           }
          ],
          "parcoords": [
           {
            "line": {
             "colorbar": {
              "outlinewidth": 0,
              "ticks": ""
             }
            },
            "type": "parcoords"
           }
          ],
          "pie": [
           {
            "automargin": true,
            "type": "pie"
           }
          ],
          "scatter": [
           {
            "marker": {
             "colorbar": {
              "outlinewidth": 0,
              "ticks": ""
             }
            },
            "type": "scatter"
           }
          ],
          "scatter3d": [
           {
            "line": {
             "colorbar": {
              "outlinewidth": 0,
              "ticks": ""
             }
            },
            "marker": {
             "colorbar": {
              "outlinewidth": 0,
              "ticks": ""
             }
            },
            "type": "scatter3d"
           }
          ],
          "scattercarpet": [
           {
            "marker": {
             "colorbar": {
              "outlinewidth": 0,
              "ticks": ""
             }
            },
            "type": "scattercarpet"
           }
          ],
          "scattergeo": [
           {
            "marker": {
             "colorbar": {
              "outlinewidth": 0,
              "ticks": ""
             }
            },
            "type": "scattergeo"
           }
          ],
          "scattergl": [
           {
            "marker": {
             "colorbar": {
              "outlinewidth": 0,
              "ticks": ""
             }
            },
            "type": "scattergl"
           }
          ],
          "scattermapbox": [
           {
            "marker": {
             "colorbar": {
              "outlinewidth": 0,
              "ticks": ""
             }
            },
            "type": "scattermapbox"
           }
          ],
          "scatterpolar": [
           {
            "marker": {
             "colorbar": {
              "outlinewidth": 0,
              "ticks": ""
             }
            },
            "type": "scatterpolar"
           }
          ],
          "scatterpolargl": [
           {
            "marker": {
             "colorbar": {
              "outlinewidth": 0,
              "ticks": ""
             }
            },
            "type": "scatterpolargl"
           }
          ],
          "scatterternary": [
           {
            "marker": {
             "colorbar": {
              "outlinewidth": 0,
              "ticks": ""
             }
            },
            "type": "scatterternary"
           }
          ],
          "surface": [
           {
            "colorbar": {
             "outlinewidth": 0,
             "ticks": ""
            },
            "colorscale": [
             [
              0,
              "#0d0887"
             ],
             [
              0.1111111111111111,
              "#46039f"
             ],
             [
              0.2222222222222222,
              "#7201a8"
             ],
             [
              0.3333333333333333,
              "#9c179e"
             ],
             [
              0.4444444444444444,
              "#bd3786"
             ],
             [
              0.5555555555555556,
              "#d8576b"
             ],
             [
              0.6666666666666666,
              "#ed7953"
             ],
             [
              0.7777777777777778,
              "#fb9f3a"
             ],
             [
              0.8888888888888888,
              "#fdca26"
             ],
             [
              1,
              "#f0f921"
             ]
            ],
            "type": "surface"
           }
          ],
          "table": [
           {
            "cells": {
             "fill": {
              "color": "#EBF0F8"
             },
             "line": {
              "color": "white"
             }
            },
            "header": {
             "fill": {
              "color": "#C8D4E3"
             },
             "line": {
              "color": "white"
             }
            },
            "type": "table"
           }
          ]
         },
         "layout": {
          "annotationdefaults": {
           "arrowcolor": "#2a3f5f",
           "arrowhead": 0,
           "arrowwidth": 1
          },
          "coloraxis": {
           "colorbar": {
            "outlinewidth": 0,
            "ticks": ""
           }
          },
          "colorscale": {
           "diverging": [
            [
             0,
             "#8e0152"
            ],
            [
             0.1,
             "#c51b7d"
            ],
            [
             0.2,
             "#de77ae"
            ],
            [
             0.3,
             "#f1b6da"
            ],
            [
             0.4,
             "#fde0ef"
            ],
            [
             0.5,
             "#f7f7f7"
            ],
            [
             0.6,
             "#e6f5d0"
            ],
            [
             0.7,
             "#b8e186"
            ],
            [
             0.8,
             "#7fbc41"
            ],
            [
             0.9,
             "#4d9221"
            ],
            [
             1,
             "#276419"
            ]
           ],
           "sequential": [
            [
             0,
             "#0d0887"
            ],
            [
             0.1111111111111111,
             "#46039f"
            ],
            [
             0.2222222222222222,
             "#7201a8"
            ],
            [
             0.3333333333333333,
             "#9c179e"
            ],
            [
             0.4444444444444444,
             "#bd3786"
            ],
            [
             0.5555555555555556,
             "#d8576b"
            ],
            [
             0.6666666666666666,
             "#ed7953"
            ],
            [
             0.7777777777777778,
             "#fb9f3a"
            ],
            [
             0.8888888888888888,
             "#fdca26"
            ],
            [
             1,
             "#f0f921"
            ]
           ],
           "sequentialminus": [
            [
             0,
             "#0d0887"
            ],
            [
             0.1111111111111111,
             "#46039f"
            ],
            [
             0.2222222222222222,
             "#7201a8"
            ],
            [
             0.3333333333333333,
             "#9c179e"
            ],
            [
             0.4444444444444444,
             "#bd3786"
            ],
            [
             0.5555555555555556,
             "#d8576b"
            ],
            [
             0.6666666666666666,
             "#ed7953"
            ],
            [
             0.7777777777777778,
             "#fb9f3a"
            ],
            [
             0.8888888888888888,
             "#fdca26"
            ],
            [
             1,
             "#f0f921"
            ]
           ]
          },
          "colorway": [
           "#636efa",
           "#EF553B",
           "#00cc96",
           "#ab63fa",
           "#FFA15A",
           "#19d3f3",
           "#FF6692",
           "#B6E880",
           "#FF97FF",
           "#FECB52"
          ],
          "font": {
           "color": "#2a3f5f"
          },
          "geo": {
           "bgcolor": "white",
           "lakecolor": "white",
           "landcolor": "#E5ECF6",
           "showlakes": true,
           "showland": true,
           "subunitcolor": "white"
          },
          "hoverlabel": {
           "align": "left"
          },
          "hovermode": "closest",
          "mapbox": {
           "style": "light"
          },
          "paper_bgcolor": "white",
          "plot_bgcolor": "#E5ECF6",
          "polar": {
           "angularaxis": {
            "gridcolor": "white",
            "linecolor": "white",
            "ticks": ""
           },
           "bgcolor": "#E5ECF6",
           "radialaxis": {
            "gridcolor": "white",
            "linecolor": "white",
            "ticks": ""
           }
          },
          "scene": {
           "xaxis": {
            "backgroundcolor": "#E5ECF6",
            "gridcolor": "white",
            "gridwidth": 2,
            "linecolor": "white",
            "showbackground": true,
            "ticks": "",
            "zerolinecolor": "white"
           },
           "yaxis": {
            "backgroundcolor": "#E5ECF6",
            "gridcolor": "white",
            "gridwidth": 2,
            "linecolor": "white",
            "showbackground": true,
            "ticks": "",
            "zerolinecolor": "white"
           },
           "zaxis": {
            "backgroundcolor": "#E5ECF6",
            "gridcolor": "white",
            "gridwidth": 2,
            "linecolor": "white",
            "showbackground": true,
            "ticks": "",
            "zerolinecolor": "white"
           }
          },
          "shapedefaults": {
           "line": {
            "color": "#2a3f5f"
           }
          },
          "ternary": {
           "aaxis": {
            "gridcolor": "white",
            "linecolor": "white",
            "ticks": ""
           },
           "baxis": {
            "gridcolor": "white",
            "linecolor": "white",
            "ticks": ""
           },
           "bgcolor": "#E5ECF6",
           "caxis": {
            "gridcolor": "white",
            "linecolor": "white",
            "ticks": ""
           }
          },
          "title": {
           "x": 0.05
          },
          "xaxis": {
           "automargin": true,
           "gridcolor": "white",
           "linecolor": "white",
           "ticks": "",
           "title": {
            "standoff": 15
           },
           "zerolinecolor": "white",
           "zerolinewidth": 2
          },
          "yaxis": {
           "automargin": true,
           "gridcolor": "white",
           "linecolor": "white",
           "ticks": "",
           "title": {
            "standoff": 15
           },
           "zerolinecolor": "white",
           "zerolinewidth": 2
          }
         }
        }
       }
      },
      "text/html": [
       "<div>\n",
       "        \n",
       "        \n",
       "            <div id=\"bd6d85e9-b880-4dc3-a4cd-c96e3c7f912f\" class=\"plotly-graph-div\" style=\"height:525px; width:100%;\"></div>\n",
       "            <script type=\"text/javascript\">\n",
       "                require([\"plotly\"], function(Plotly) {\n",
       "                    window.PLOTLYENV=window.PLOTLYENV || {};\n",
       "                    \n",
       "                if (document.getElementById(\"bd6d85e9-b880-4dc3-a4cd-c96e3c7f912f\")) {\n",
       "                    Plotly.newPlot(\n",
       "                        'bd6d85e9-b880-4dc3-a4cd-c96e3c7f912f',\n",
       "                        [{\"domain\": {\"x\": [0.0, 1.0], \"y\": [0.0, 1.0]}, \"hovertemplate\": \"Status=%{label}<br>Count=%{value}<extra></extra>\", \"labels\": [\"On Hold\", \"Completed\", \"In Progress\", \"In Review\", \"Waiting For Client\", \"Dropped\", \"Backlog\", \"Planned\"], \"legendgroup\": \"\", \"name\": \"\", \"showlegend\": true, \"textinfo\": \"value+label\", \"textposition\": \"inside\", \"type\": \"pie\", \"values\": [3, 46, 13, 2, 1, 5, 18, 6]}],\n",
       "                        {\"legend\": {\"tracegroupgap\": 0}, \"margin\": {\"t\": 60}, \"template\": {\"data\": {\"bar\": [{\"error_x\": {\"color\": \"#2a3f5f\"}, \"error_y\": {\"color\": \"#2a3f5f\"}, \"marker\": {\"line\": {\"color\": \"#E5ECF6\", \"width\": 0.5}}, \"type\": \"bar\"}], \"barpolar\": [{\"marker\": {\"line\": {\"color\": \"#E5ECF6\", \"width\": 0.5}}, \"type\": \"barpolar\"}], \"carpet\": [{\"aaxis\": {\"endlinecolor\": \"#2a3f5f\", \"gridcolor\": \"white\", \"linecolor\": \"white\", \"minorgridcolor\": \"white\", \"startlinecolor\": \"#2a3f5f\"}, \"baxis\": {\"endlinecolor\": \"#2a3f5f\", \"gridcolor\": \"white\", \"linecolor\": \"white\", \"minorgridcolor\": \"white\", \"startlinecolor\": \"#2a3f5f\"}, \"type\": \"carpet\"}], \"choropleth\": [{\"colorbar\": {\"outlinewidth\": 0, \"ticks\": \"\"}, \"type\": \"choropleth\"}], \"contour\": [{\"colorbar\": {\"outlinewidth\": 0, \"ticks\": \"\"}, \"colorscale\": [[0.0, \"#0d0887\"], [0.1111111111111111, \"#46039f\"], [0.2222222222222222, \"#7201a8\"], [0.3333333333333333, \"#9c179e\"], [0.4444444444444444, \"#bd3786\"], [0.5555555555555556, \"#d8576b\"], [0.6666666666666666, \"#ed7953\"], [0.7777777777777778, \"#fb9f3a\"], [0.8888888888888888, \"#fdca26\"], [1.0, \"#f0f921\"]], \"type\": \"contour\"}], \"contourcarpet\": [{\"colorbar\": {\"outlinewidth\": 0, \"ticks\": \"\"}, \"type\": \"contourcarpet\"}], \"heatmap\": [{\"colorbar\": {\"outlinewidth\": 0, \"ticks\": \"\"}, \"colorscale\": [[0.0, \"#0d0887\"], [0.1111111111111111, \"#46039f\"], [0.2222222222222222, \"#7201a8\"], [0.3333333333333333, \"#9c179e\"], [0.4444444444444444, \"#bd3786\"], [0.5555555555555556, \"#d8576b\"], [0.6666666666666666, \"#ed7953\"], [0.7777777777777778, \"#fb9f3a\"], [0.8888888888888888, \"#fdca26\"], [1.0, \"#f0f921\"]], \"type\": \"heatmap\"}], \"heatmapgl\": [{\"colorbar\": {\"outlinewidth\": 0, \"ticks\": \"\"}, \"colorscale\": [[0.0, \"#0d0887\"], [0.1111111111111111, \"#46039f\"], [0.2222222222222222, \"#7201a8\"], [0.3333333333333333, \"#9c179e\"], [0.4444444444444444, \"#bd3786\"], [0.5555555555555556, \"#d8576b\"], [0.6666666666666666, \"#ed7953\"], [0.7777777777777778, \"#fb9f3a\"], [0.8888888888888888, \"#fdca26\"], [1.0, \"#f0f921\"]], \"type\": \"heatmapgl\"}], \"histogram\": [{\"marker\": {\"colorbar\": {\"outlinewidth\": 0, \"ticks\": \"\"}}, \"type\": \"histogram\"}], \"histogram2d\": [{\"colorbar\": {\"outlinewidth\": 0, \"ticks\": \"\"}, \"colorscale\": [[0.0, \"#0d0887\"], [0.1111111111111111, \"#46039f\"], [0.2222222222222222, \"#7201a8\"], [0.3333333333333333, \"#9c179e\"], [0.4444444444444444, \"#bd3786\"], [0.5555555555555556, \"#d8576b\"], [0.6666666666666666, \"#ed7953\"], [0.7777777777777778, \"#fb9f3a\"], [0.8888888888888888, \"#fdca26\"], [1.0, \"#f0f921\"]], \"type\": \"histogram2d\"}], \"histogram2dcontour\": [{\"colorbar\": {\"outlinewidth\": 0, \"ticks\": \"\"}, \"colorscale\": [[0.0, \"#0d0887\"], [0.1111111111111111, \"#46039f\"], [0.2222222222222222, \"#7201a8\"], [0.3333333333333333, \"#9c179e\"], [0.4444444444444444, \"#bd3786\"], [0.5555555555555556, \"#d8576b\"], [0.6666666666666666, \"#ed7953\"], [0.7777777777777778, \"#fb9f3a\"], [0.8888888888888888, \"#fdca26\"], [1.0, \"#f0f921\"]], \"type\": \"histogram2dcontour\"}], \"mesh3d\": [{\"colorbar\": {\"outlinewidth\": 0, \"ticks\": \"\"}, \"type\": \"mesh3d\"}], \"parcoords\": [{\"line\": {\"colorbar\": {\"outlinewidth\": 0, \"ticks\": \"\"}}, \"type\": \"parcoords\"}], \"pie\": [{\"automargin\": true, \"type\": \"pie\"}], \"scatter\": [{\"marker\": {\"colorbar\": {\"outlinewidth\": 0, \"ticks\": \"\"}}, \"type\": \"scatter\"}], \"scatter3d\": [{\"line\": {\"colorbar\": {\"outlinewidth\": 0, \"ticks\": \"\"}}, \"marker\": {\"colorbar\": {\"outlinewidth\": 0, \"ticks\": \"\"}}, \"type\": \"scatter3d\"}], \"scattercarpet\": [{\"marker\": {\"colorbar\": {\"outlinewidth\": 0, \"ticks\": \"\"}}, \"type\": \"scattercarpet\"}], \"scattergeo\": [{\"marker\": {\"colorbar\": {\"outlinewidth\": 0, \"ticks\": \"\"}}, \"type\": \"scattergeo\"}], \"scattergl\": [{\"marker\": {\"colorbar\": {\"outlinewidth\": 0, \"ticks\": \"\"}}, \"type\": \"scattergl\"}], \"scattermapbox\": [{\"marker\": {\"colorbar\": {\"outlinewidth\": 0, \"ticks\": \"\"}}, \"type\": \"scattermapbox\"}], \"scatterpolar\": [{\"marker\": {\"colorbar\": {\"outlinewidth\": 0, \"ticks\": \"\"}}, \"type\": \"scatterpolar\"}], \"scatterpolargl\": [{\"marker\": {\"colorbar\": {\"outlinewidth\": 0, \"ticks\": \"\"}}, \"type\": \"scatterpolargl\"}], \"scatterternary\": [{\"marker\": {\"colorbar\": {\"outlinewidth\": 0, \"ticks\": \"\"}}, \"type\": \"scatterternary\"}], \"surface\": [{\"colorbar\": {\"outlinewidth\": 0, \"ticks\": \"\"}, \"colorscale\": [[0.0, \"#0d0887\"], [0.1111111111111111, \"#46039f\"], [0.2222222222222222, \"#7201a8\"], [0.3333333333333333, \"#9c179e\"], [0.4444444444444444, \"#bd3786\"], [0.5555555555555556, \"#d8576b\"], [0.6666666666666666, \"#ed7953\"], [0.7777777777777778, \"#fb9f3a\"], [0.8888888888888888, \"#fdca26\"], [1.0, \"#f0f921\"]], \"type\": \"surface\"}], \"table\": [{\"cells\": {\"fill\": {\"color\": \"#EBF0F8\"}, \"line\": {\"color\": \"white\"}}, \"header\": {\"fill\": {\"color\": \"#C8D4E3\"}, \"line\": {\"color\": \"white\"}}, \"type\": \"table\"}]}, \"layout\": {\"annotationdefaults\": {\"arrowcolor\": \"#2a3f5f\", \"arrowhead\": 0, \"arrowwidth\": 1}, \"coloraxis\": {\"colorbar\": {\"outlinewidth\": 0, \"ticks\": \"\"}}, \"colorscale\": {\"diverging\": [[0, \"#8e0152\"], [0.1, \"#c51b7d\"], [0.2, \"#de77ae\"], [0.3, \"#f1b6da\"], [0.4, \"#fde0ef\"], [0.5, \"#f7f7f7\"], [0.6, \"#e6f5d0\"], [0.7, \"#b8e186\"], [0.8, \"#7fbc41\"], [0.9, \"#4d9221\"], [1, \"#276419\"]], \"sequential\": [[0.0, \"#0d0887\"], [0.1111111111111111, \"#46039f\"], [0.2222222222222222, \"#7201a8\"], [0.3333333333333333, \"#9c179e\"], [0.4444444444444444, \"#bd3786\"], [0.5555555555555556, \"#d8576b\"], [0.6666666666666666, \"#ed7953\"], [0.7777777777777778, \"#fb9f3a\"], [0.8888888888888888, \"#fdca26\"], [1.0, \"#f0f921\"]], \"sequentialminus\": [[0.0, \"#0d0887\"], [0.1111111111111111, \"#46039f\"], [0.2222222222222222, \"#7201a8\"], [0.3333333333333333, \"#9c179e\"], [0.4444444444444444, \"#bd3786\"], [0.5555555555555556, \"#d8576b\"], [0.6666666666666666, \"#ed7953\"], [0.7777777777777778, \"#fb9f3a\"], [0.8888888888888888, \"#fdca26\"], [1.0, \"#f0f921\"]]}, \"colorway\": [\"#636efa\", \"#EF553B\", \"#00cc96\", \"#ab63fa\", \"#FFA15A\", \"#19d3f3\", \"#FF6692\", \"#B6E880\", \"#FF97FF\", \"#FECB52\"], \"font\": {\"color\": \"#2a3f5f\"}, \"geo\": {\"bgcolor\": \"white\", \"lakecolor\": \"white\", \"landcolor\": \"#E5ECF6\", \"showlakes\": true, \"showland\": true, \"subunitcolor\": \"white\"}, \"hoverlabel\": {\"align\": \"left\"}, \"hovermode\": \"closest\", \"mapbox\": {\"style\": \"light\"}, \"paper_bgcolor\": \"white\", \"plot_bgcolor\": \"#E5ECF6\", \"polar\": {\"angularaxis\": {\"gridcolor\": \"white\", \"linecolor\": \"white\", \"ticks\": \"\"}, \"bgcolor\": \"#E5ECF6\", \"radialaxis\": {\"gridcolor\": \"white\", \"linecolor\": \"white\", \"ticks\": \"\"}}, \"scene\": {\"xaxis\": {\"backgroundcolor\": \"#E5ECF6\", \"gridcolor\": \"white\", \"gridwidth\": 2, \"linecolor\": \"white\", \"showbackground\": true, \"ticks\": \"\", \"zerolinecolor\": \"white\"}, \"yaxis\": {\"backgroundcolor\": \"#E5ECF6\", \"gridcolor\": \"white\", \"gridwidth\": 2, \"linecolor\": \"white\", \"showbackground\": true, \"ticks\": \"\", \"zerolinecolor\": \"white\"}, \"zaxis\": {\"backgroundcolor\": \"#E5ECF6\", \"gridcolor\": \"white\", \"gridwidth\": 2, \"linecolor\": \"white\", \"showbackground\": true, \"ticks\": \"\", \"zerolinecolor\": \"white\"}}, \"shapedefaults\": {\"line\": {\"color\": \"#2a3f5f\"}}, \"ternary\": {\"aaxis\": {\"gridcolor\": \"white\", \"linecolor\": \"white\", \"ticks\": \"\"}, \"baxis\": {\"gridcolor\": \"white\", \"linecolor\": \"white\", \"ticks\": \"\"}, \"bgcolor\": \"#E5ECF6\", \"caxis\": {\"gridcolor\": \"white\", \"linecolor\": \"white\", \"ticks\": \"\"}}, \"title\": {\"x\": 0.05}, \"xaxis\": {\"automargin\": true, \"gridcolor\": \"white\", \"linecolor\": \"white\", \"ticks\": \"\", \"title\": {\"standoff\": 15}, \"zerolinecolor\": \"white\", \"zerolinewidth\": 2}, \"yaxis\": {\"automargin\": true, \"gridcolor\": \"white\", \"linecolor\": \"white\", \"ticks\": \"\", \"title\": {\"standoff\": 15}, \"zerolinecolor\": \"white\", \"zerolinewidth\": 2}}}},\n",
       "                        {\"responsive\": true}\n",
       "                    ).then(function(){\n",
       "                            \n",
       "var gd = document.getElementById('bd6d85e9-b880-4dc3-a4cd-c96e3c7f912f');\n",
       "var x = new MutationObserver(function (mutations, observer) {{\n",
       "        var display = window.getComputedStyle(gd).display;\n",
       "        if (!display || display === 'none') {{\n",
       "            console.log([gd, 'removed!']);\n",
       "            Plotly.purge(gd);\n",
       "            observer.disconnect();\n",
       "        }}\n",
       "}});\n",
       "\n",
       "// Listen for the removal of the full notebook cells\n",
       "var notebookContainer = gd.closest('#notebook-container');\n",
       "if (notebookContainer) {{\n",
       "    x.observe(notebookContainer, {childList: true});\n",
       "}}\n",
       "\n",
       "// Listen for the clearing of the current output cell\n",
       "var outputEl = gd.closest('.output');\n",
       "if (outputEl) {{\n",
       "    x.observe(outputEl, {childList: true});\n",
       "}}\n",
       "\n",
       "                        })\n",
       "                };\n",
       "                });\n",
       "            </script>\n",
       "        </div>"
      ]
     },
     "metadata": {},
     "output_type": "display_data"
    },
    {
     "data": {
      "text/plain": [
       "'https://plotly.com/~Kshit96/1/'"
      ]
     },
     "execution_count": 187,
     "metadata": {},
     "output_type": "execute_result"
    }
   ],
   "source": [
    "import chart_studio\n",
    "username = 'kshit96'\n",
    "api_key = 'koxCWL68bdDw2hy6r1mH'\n",
    "\n",
    "chart_studio.tools.set_credentials_file(username=username, api_key=api_key)\n",
    "\n",
    "fig = px.pie(df, values='Count', names='Status')\n",
    "fig.update_traces(textposition='inside', textinfo='value+label')\n",
    "fig.show()\n",
    "\n",
    "import chart_studio.plotly as py\n",
    "py.plot(fig, filename = 'card_statuses', auto_open=True)"
   ]
  },
  {
   "cell_type": "code",
   "execution_count": null,
   "metadata": {},
   "outputs": [],
   "source": []
  }
 ],
 "metadata": {
  "kernelspec": {
   "display_name": "Python 3",
   "language": "python",
   "name": "python3"
  },
  "language_info": {
   "codemirror_mode": {
    "name": "ipython",
    "version": 3
   },
   "file_extension": ".py",
   "mimetype": "text/x-python",
   "name": "python",
   "nbconvert_exporter": "python",
   "pygments_lexer": "ipython3",
   "version": "3.7.7"
  }
 },
 "nbformat": 4,
 "nbformat_minor": 4
}
